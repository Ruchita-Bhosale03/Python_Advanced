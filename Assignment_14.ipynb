{
 "cells": [
  {
   "cell_type": "markdown",
   "metadata": {},
   "source": [
    "Answer1\n",
    "\n",
    "The assignment operator += is not just for show; it serves a practical purpose in programming. It is a shorthand notation for performing addition and assignment in a single operation. Instead of writing x = x + y, you can write x += y, which achieves the same result.\n",
    "\n",
    "Regarding runtime performance, using the += operator is not likely to provide any significant speed improvements compared to using the long-form x = x + y statement. \n",
    "\n",
    "The primary benefit of using += lies in code readability and maintainability. It makes your intention clear that you are incrementing the value of x by y, and it reduces the chances of introducing errors when writing complex expressions."
   ]
  },
  {
   "cell_type": "markdown",
   "metadata": {},
   "source": [
    "Answer2\n",
    "\n",
    "the Python expression a, b = a + b, a\n",
    "\n",
    "1) a, b = b, a + b\n",
    "\n",
    "2)temp = a + b\n",
    "b = a\n",
    "a = temp"
   ]
  },
  {
   "cell_type": "markdown",
   "metadata": {},
   "source": [
    "Answer3"
   ]
  },
  {
   "cell_type": "code",
   "execution_count": 4,
   "metadata": {},
   "outputs": [],
   "source": [
    "my_list = [0] * 100"
   ]
  },
  {
   "cell_type": "code",
   "execution_count": 11,
   "metadata": {},
   "outputs": [
    {
     "name": "stdout",
     "output_type": "stream",
     "text": [
      "[1, 2, 3, 1, 2, 3, 1, 2, 3, 1, 2, 3, 1, 2, 3, 1, 2, 3, 1, 2, 3, 1, 2, 3, 1, 2, 3, 1, 2, 3, 1, 2, 3, 1, 2, 3, 1, 2, 3, 1, 2, 3, 1, 2, 3, 1, 2, 3, 1, 2, 3, 1, 2, 3, 1, 2, 3, 1, 2, 3, 1, 2, 3, 1, 2, 3, 1, 2, 3, 1, 2, 3, 1, 2, 3, 1, 2, 3, 1, 2, 3, 1, 2, 3, 1, 2, 3, 1, 2, 3, 1, 2, 3, 1, 2, 3, 1, 2, 3]"
     ]
    }
   ],
   "source": [
    "#Answer4\n",
    "my_list = [(i % 3) + 1 for i in range(99)]\n",
    "print(my_list,end=\"\")"
   ]
  },
  {
   "cell_type": "code",
   "execution_count": 12,
   "metadata": {},
   "outputs": [
    {
     "name": "stdout",
     "output_type": "stream",
     "text": [
      "1 2 3 \n",
      "4 5 6 \n",
      "7 8 9 \n"
     ]
    }
   ],
   "source": [
    "#Answer5\n",
    "\n",
    "my_list = [[1, 2, 3],\n",
    "           [4, 5, 6],\n",
    "           [7, 8, 9]]\n",
    "\n",
    "for row in my_list:\n",
    "    for element in row:\n",
    "        print(element, end=\" \")\n",
    "    print()\n"
   ]
  },
  {
   "cell_type": "code",
   "execution_count": 13,
   "metadata": {},
   "outputs": [
    {
     "name": "stdout",
     "output_type": "stream",
     "text": [
      "['H', 'e', 'l', 'l', 'o', ',', ' ', 'W', 'o', 'r', 'l', 'd', '!']\n"
     ]
    }
   ],
   "source": [
    "#Answer6\n",
    "\n",
    "my_string = \"Hello, World!\"\n",
    "char_list = [char for char in my_string]\n",
    "print(char_list)"
   ]
  },
  {
   "cell_type": "code",
   "execution_count": 14,
   "metadata": {},
   "outputs": [
    {
     "name": "stdout",
     "output_type": "stream",
     "text": [
      "[72, 101, 108, 108, 111, 44, 32, 87, 111, 114, 108, 100, 33]\n"
     ]
    }
   ],
   "source": [
    "#Convert the characters to their corresponding ASCII values:\n",
    "my_string = \"Hello, World!\"\n",
    "ascii_list=[ord(char) for char in my_string]\n",
    "print(ascii_list)\n"
   ]
  },
  {
   "cell_type": "code",
   "execution_count": 16,
   "metadata": {},
   "outputs": [
    {
     "name": "stdout",
     "output_type": "stream",
     "text": [
      "['H', 'e', 'l', 'l', 'o', 'W', 'o', 'r', 'l', 'd']\n"
     ]
    }
   ],
   "source": [
    "#Filter out specific characters from the string:\n",
    "my_string = \"Hello, World!\"\n",
    "filtered_list=[char for char in my_string if char.isalpha()]\n",
    "print(filtered_list)\n",
    "\n"
   ]
  },
  {
   "cell_type": "code",
   "execution_count": 17,
   "metadata": {},
   "outputs": [
    {
     "name": "stdout",
     "output_type": "stream",
     "text": [
      "['h', 'e', 'l', 'l', 'o', ',', ' ', 'w', 'o', 'r', 'l', 'd', '!']\n"
     ]
    }
   ],
   "source": [
    "my_string = \"Hello, World!\"\n",
    "lowercase_list = [char.lower() for char in my_string]\n",
    "print(lowercase_list)\n"
   ]
  },
  {
   "cell_type": "markdown",
   "metadata": {},
   "source": [
    "Answer7\n",
    "\n",
    "From the command line, you can get support for a user-written Python program by using comments in the code and running the Python program with the -h or --help command-line argument."
   ]
  },
  {
   "cell_type": "markdown",
   "metadata": {},
   "source": [
    "Answer8\n",
    "\n",
    "1)Assign functions to variables: In Python, you can assign a function to a variable, effectively creating a reference to the function. This allows you to use the variable as if it were the function itself.\n",
    "In C or C++, you cannot directly assign a function to a variable in this manner.\n",
    "\n",
    "2)Pass functions as arguments to other functions: In Python, you can pass a function as an argument to another function. This enables you to implement higher-order functions and functional programming techniques.\n",
    "In C or C++, you cannot directly pass a function as an argument to another function.\n",
    "\n",
    "3)Return functions from other functions: In Python, functions can return other functions as their return values. This allows for more advanced programming patterns and closures.\n",
    " C or C++, you cannot directly return functions from other functions.\n",
    "\n",
    "4)Store functions in data structures: In Python, you can store functions in lists, dictionaries, or other data structures, enabling dynamic and flexible programming.\n",
    "In C or C++, you cannot directly store functions in data structures like this.\n",
    "\n"
   ]
  },
  {
   "cell_type": "markdown",
   "metadata": {},
   "source": [
    "Answer9\n",
    "\n",
    "Wrapper:\n",
    "A wrapper is a function or method that encapsulates or wraps around another function or method. It adds additional functionality to the wrapped function without modifying its original code. The wrapper usually calls the original function as part of its own execution and may perform actions before or after the call."
   ]
  },
  {
   "cell_type": "code",
   "execution_count": 18,
   "metadata": {},
   "outputs": [
    {
     "name": "stdout",
     "output_type": "stream",
     "text": [
      "Starting execution...\n",
      "Execution finished.\n",
      "Hello, John!\n"
     ]
    }
   ],
   "source": [
    "def my_wrapper(func):\n",
    "    def wrapper(*args, **kwargs):\n",
    "        print(\"Starting execution...\")\n",
    "        result = func(*args, **kwargs)\n",
    "        print(\"Execution finished.\")\n",
    "        return result\n",
    "    return wrapper\n",
    "\n",
    "@my_wrapper\n",
    "def say_hello(name):\n",
    "    return f\"Hello, {name}!\"\n",
    "\n",
    "print(say_hello(\"John\"))"
   ]
  },
  {
   "cell_type": "markdown",
   "metadata": {},
   "source": [
    "Wrapped Feature:\n",
    "The \"wrapped feature\" is the original function or method that is being wrapped by the wrapper. It is the core functionality that the wrapper aims to enhance or modify without altering its own code.\n",
    "\n",
    "A decorator is a design pattern that allows you to apply a wrapper to a function or method using a special syntax in Python. The @decorator syntax makes it convenient to enhance the behavior of functions without modifying their code explicitly."
   ]
  },
  {
   "cell_type": "markdown",
   "metadata": {},
   "source": [
    "Answer10\n",
    "If a function is a generator function in Python, it returns a generator object. A generator function is a special type of function that uses the yield keyword to produce a series of values one at a time, rather than returning a single value like a regular function.\n",
    "\n",
    "When a generator function is called, it does not execute its code immediately like a regular function. Instead, it returns a generator object that can be iterated over to produce the values generated by the yield statements."
   ]
  },
  {
   "cell_type": "code",
   "execution_count": 19,
   "metadata": {},
   "outputs": [
    {
     "name": "stdout",
     "output_type": "stream",
     "text": [
      "<generator object my_generator at 0x000001C06C069070>\n",
      "1\n",
      "2\n",
      "3\n"
     ]
    }
   ],
   "source": [
    "def my_generator():\n",
    "    yield 1\n",
    "    yield 2\n",
    "    yield 3\n",
    "\n",
    "gen = my_generator()\n",
    "print(gen)  \n",
    "\n",
    "for value in gen:\n",
    "    print(value)\n"
   ]
  },
  {
   "cell_type": "markdown",
   "metadata": {},
   "source": [
    "Answer11\n",
    "\n",
    "The one improvement that must be made to a function to turn it into a generator function in Python is to replace the return statements with yield statements.\n",
    "\n",
    "When you use the return keyword in a regular function, it immediately terminates the function's execution and returns the specified value. However, when you use the yield keyword in a function, it turns the function into a generator function.\n"
   ]
  },
  {
   "cell_type": "markdown",
   "metadata": {},
   "source": [
    "Answer12\n",
    "\n",
    "One of the key benefits of using generators in Python is their efficiency and memory optimization. Generators allow for lazy evaluation, meaning they generate and produce values on-the-fly, only when they are requested or iterated over. \n",
    "\n",
    " They are particularly useful when dealing with large datasets, real-time data streams, or infinite sequences, making them a valuable tool in Python for optimizing memory usage and improving the efficiency of iterative processes."
   ]
  },
  {
   "cell_type": "markdown",
   "metadata": {},
   "source": []
  },
  {
   "cell_type": "code",
   "execution_count": null,
   "metadata": {},
   "outputs": [],
   "source": []
  }
 ],
 "metadata": {
  "kernelspec": {
   "display_name": "base",
   "language": "python",
   "name": "python3"
  },
  "language_info": {
   "codemirror_mode": {
    "name": "ipython",
    "version": 3
   },
   "file_extension": ".py",
   "mimetype": "text/x-python",
   "name": "python",
   "nbconvert_exporter": "python",
   "pygments_lexer": "ipython3",
   "version": "3.10.9"
  },
  "orig_nbformat": 4
 },
 "nbformat": 4,
 "nbformat_minor": 2
}
