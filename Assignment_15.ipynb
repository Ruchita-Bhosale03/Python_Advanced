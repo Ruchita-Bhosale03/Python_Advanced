{
 "cells": [
  {
   "cell_type": "markdown",
   "metadata": {},
   "source": [
    "Answer1\n",
    "\n",
    "Assignment Expressions (The Walrus Operator):the \"walrus operator\" (:=), which allows you to assign values to variables as part of an expression. It helps reduce code duplication and improves readability in certain situations."
   ]
  },
  {
   "cell_type": "code",
   "execution_count": 1,
   "metadata": {},
   "outputs": [
    {
     "name": "stdout",
     "output_type": "stream",
     "text": [
      "The value of b is 20 and is greater than 10.\n"
     ]
    }
   ],
   "source": [
    "a = 20\n",
    "if (b := a) > 10:\n",
    "\tprint(f\"The value of b is {b} and is greater than 10.\")"
   ]
  },
  {
   "cell_type": "markdown",
   "metadata": {},
   "source": [
    "Positional-only parameters(/)\n",
    "There is a new function parameter syntax “/” which indicates that some function parameters must be specified positionally and can’t be used as keyword arguments."
   ]
  },
  {
   "cell_type": "code",
   "execution_count": 2,
   "metadata": {},
   "outputs": [
    {
     "name": "stdout",
     "output_type": "stream",
     "text": [
      "7\n",
      "14\n"
     ]
    },
    {
     "ename": "TypeError",
     "evalue": "add() got some positional-only arguments passed as keyword arguments: 'x, y'",
     "output_type": "error",
     "traceback": [
      "\u001b[1;31m---------------------------------------------------------------------------\u001b[0m",
      "\u001b[1;31mTypeError\u001b[0m                                 Traceback (most recent call last)",
      "Cell \u001b[1;32mIn[2], line 9\u001b[0m\n\u001b[0;32m      7\u001b[0m \u001b[39mprint\u001b[39m(add(\u001b[39m2\u001b[39m, \u001b[39m5\u001b[39m))\n\u001b[0;32m      8\u001b[0m \u001b[39mprint\u001b[39m(add(\u001b[39m2\u001b[39m, \u001b[39m5\u001b[39m, \u001b[39m7\u001b[39m))\n\u001b[1;32m----> 9\u001b[0m \u001b[39mprint\u001b[39m(add(x \u001b[39m=\u001b[39;49m \u001b[39m2\u001b[39;49m, y \u001b[39m=\u001b[39;49m \u001b[39m5\u001b[39;49m))\n",
      "\u001b[1;31mTypeError\u001b[0m: add() got some positional-only arguments passed as keyword arguments: 'x, y'"
     ]
    }
   ],
   "source": [
    "# Arguments before / are considered\n",
    "# as positional arguments only\n",
    "def add(x, y, /, z = 0):\n",
    "\ta = x + y + z\n",
    "\treturn a\n",
    "print(add(2, 5))\n",
    "print(add(2, 5, 7))\n",
    "print(add(x = 2, y = 5))\n"
   ]
  },
  {
   "cell_type": "markdown",
   "metadata": {},
   "source": [
    "f-strings Improvements:\n",
    "Python 3.8 introduced the \"=\" option for f-strings, which allows you to include the variable name along with its value. This is helpful for debugging and logging purposes."
   ]
  },
  {
   "cell_type": "code",
   "execution_count": 3,
   "metadata": {},
   "outputs": [
    {
     "name": "stdout",
     "output_type": "stream",
     "text": [
      "name='John'\n"
     ]
    }
   ],
   "source": [
    "name = \"John\"\n",
    "print(f\"{name=}\")  # Output: name='John'\n"
   ]
  },
  {
   "cell_type": "markdown",
   "metadata": {},
   "source": [
    "eversed() works with a dictionary\n",
    "In Python 3.8, the built-in method “reversed()” can be used for accessing the elements in the reverse order of insertion."
   ]
  },
  {
   "cell_type": "code",
   "execution_count": 4,
   "metadata": {},
   "outputs": [
    {
     "data": {
      "text/plain": [
       "[('z', 3), ('y', 2), ('x', 1)]"
      ]
     },
     "execution_count": 4,
     "metadata": {},
     "output_type": "execute_result"
    }
   ],
   "source": [
    "# Declaring a dictionary\n",
    "my_dict = dict(x = 1, y = 2, z = 3)\n",
    "\n",
    "# Prints only keys\n",
    "list(reversed(my_dict))\n",
    "\n",
    "# Prints the key-value pair\n",
    "# as a list of tuples\n",
    "list(reversed(my_dict.items()))\n"
   ]
  },
  {
   "cell_type": "markdown",
   "metadata": {},
   "source": [
    "No parentheses for return and yield statements\n",
    "‘yield’ and ‘return’ statements do not require parentheses to return multiple values."
   ]
  },
  {
   "cell_type": "markdown",
   "metadata": {},
   "source": [
    "pow() function\n",
    "In the three-argument form of pow(), when the exponent is -1, it calculates the modular multiplicative inverse of the given value."
   ]
  },
  {
   "cell_type": "code",
   "execution_count": 5,
   "metadata": {},
   "outputs": [
    {
     "name": "stdout",
     "output_type": "stream",
     "text": [
      "119\n"
     ]
    }
   ],
   "source": [
    "print(pow(38, -1, 137))"
   ]
  },
  {
   "cell_type": "markdown",
   "metadata": {},
   "source": [
    "Answer2\n",
    "Monkey patching in Python refers to the practice of dynamically modifying or extending the behavior of a module, class, or function at runtime. It involves making changes to the code of an object (such as a function or a method) after it has been defined, without altering its original source code.\n",
    "Monkey patching is often used in testing, debugging, or extending the functionality of third-party libraries or modules without having to modify their source code directly. It allows developers to override or augment existing behavior to suit specific requirements or to fix issues temporarily.\n",
    "\n",
    "example \n",
    "\n",
    "import math_operations\n",
    "\n",
    "def multiply_by_ten(a, b):\n",
    "    return math_operations.add(a, b) * 10\n",
    "\n",
    "# Monkey patching: replacing the original 'add' function with 'multiply_by_ten'\n",
    "math_operations.add = multiply_by_ten\n",
    "\n",
    "# Now, when we call 'add', it will return (a + b) * 10\n",
    "result = math_operations.add(2, 3)\n",
    "print(result)  # Output: 50"
   ]
  },
  {
   "cell_type": "markdown",
   "metadata": {},
   "source": [
    "Answer3\n",
    "Shallow Copy:\n",
    "\n",
    "A shallow copy creates a new object, but it does not create new copies of the objects contained within the original object. Instead, it copies references to those objects. As a result, both the original and the shallow copy point to the same objects in memory.\n",
    "If the original object contains mutable objects (e.g., lists, dictionaries), changes made to those mutable objects through one reference will affect both the original and the shallow copy, as they share the same references.\n",
    "Shallow copy can be created using methods like copy() for lists and dictionaries or copy.copy() from the copy module."
   ]
  },
  {
   "cell_type": "code",
   "execution_count": 8,
   "metadata": {},
   "outputs": [
    {
     "name": "stdout",
     "output_type": "stream",
     "text": [
      "[1, [99, 3], 4]\n",
      "[1, [99, 3], 4]\n"
     ]
    }
   ],
   "source": [
    "import copy\n",
    "\n",
    "original_list = [1, [2, 3], 4]\n",
    "shallow_copy = copy.copy(original_list)\n",
    "\n",
    "# Both original_list and shallow_copy share the same inner list object.\n",
    "shallow_copy[1][0] = 99\n",
    "\n",
    "print(original_list)  # Output: [1, [99, 3], 4]\n",
    "print(shallow_copy)   # Output: [1, [99, 3], 4]\n"
   ]
  },
  {
   "cell_type": "markdown",
   "metadata": {},
   "source": [
    "Deep Copy:\n",
    "\n",
    "A deep copy creates a new object and recursively creates new copies of all the objects contained within the original object. It ensures that the new copy is entirely independent of the original object, including all nested objects.\n",
    "Deep copy is particularly useful when you want to modify a copied object without affecting the original object or any of its nested objects.\n",
    "Deep copy can be created using the deepcopy() function from the copy module."
   ]
  },
  {
   "cell_type": "code",
   "execution_count": 7,
   "metadata": {},
   "outputs": [
    {
     "name": "stdout",
     "output_type": "stream",
     "text": [
      "[1, [2, 3], 4]\n",
      "[1, [99, 3], 4]\n"
     ]
    }
   ],
   "source": [
    "import copy\n",
    "\n",
    "original_list = [1, [2, 3], 4]\n",
    "deep_copy = copy.deepcopy(original_list)\n",
    "\n",
    "# Modifying the inner list in deep_copy won't affect the original_list.\n",
    "deep_copy[1][0] = 99\n",
    "\n",
    "print(original_list)  # Output: [1, [2, 3], 4]\n",
    "print(deep_copy)      # Output: [1, [99, 3], 4]\n"
   ]
  },
  {
   "cell_type": "markdown",
   "metadata": {},
   "source": [
    "Answer4\n",
    "\n",
    "An identifier can have a maximum length of 79 characters in Python. Python is one of the most popular programming languages. \n",
    "In Python 3, an identifier is a sequence of letters (both lowercase and uppercase), digits, and underscores. It must start with a letter (a-z, A-Z) or an underscore (_). Python uses Unicode characters for identifiers, so identifiers can include a wide range of characters from different languages."
   ]
  },
  {
   "cell_type": "markdown",
   "metadata": {},
   "source": [
    "Answer5\n",
    "Generator comprehension, also known as generator expression, is a concise and memory-efficient way to create generator objects in Python. It is similar to list comprehensions but produces generator objects instead of lists. Generator comprehensions allow you to generate and iterate over elements on-the-fly, avoiding the need to create and store all elements in memory at once.\n",
    "\n",
    "syntax:\n",
    "\n",
    "(generator_expression for item in iterable if condition)\n"
   ]
  },
  {
   "cell_type": "code",
   "execution_count": null,
   "metadata": {},
   "outputs": [],
   "source": []
  }
 ],
 "metadata": {
  "kernelspec": {
   "display_name": "base",
   "language": "python",
   "name": "python3"
  },
  "language_info": {
   "codemirror_mode": {
    "name": "ipython",
    "version": 3
   },
   "file_extension": ".py",
   "mimetype": "text/x-python",
   "name": "python",
   "nbconvert_exporter": "python",
   "pygments_lexer": "ipython3",
   "version": "3.10.9"
  },
  "orig_nbformat": 4
 },
 "nbformat": 4,
 "nbformat_minor": 2
}
