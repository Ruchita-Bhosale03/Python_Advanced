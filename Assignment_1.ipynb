{
 "cells": [
  {
   "cell_type": "markdown",
   "metadata": {},
   "source": [
    "Answer1\n",
    "1)Modularity and Reusability: OOP allows you to break down a complex problem into smaller, more manageable objects or classes\n",
    "2)Encapsulation: OOP supports encapsulation, which is the bundling of data and methods (functions) that operate on that data into a single unit called a class. Encapsulation hides the internal details of an object and provides a clean interface for interacting with it.\n",
    "3)Inheritance: Inheritance is a fundamental concept in OOP that allows you to define a new class based on an existing class, inheriting its attributes and methods.\n",
    "4)Polymorphism: Polymorphism allows objects of different classes to be treated as interchangeable entities, as long as they adhere to a common interface or share a common base class.\n",
    "5)Code Organization and Maintainability: OOP provides a structured approach to code organization, making it easier to understand, modify, and maintain large codebases. "
   ]
  },
  {
   "cell_type": "markdown",
   "metadata": {},
   "source": [
    "Answer2\n",
    "In Python, when you access an attribute (such as a variable or a method) on an object, the inheritance search looks for the attribute in a specific order, known as the method resolution order (MRO). The MRO determines the sequence in which Python searches for attributes in a class hierarchy.\n",
    "\n",
    "The instance itself: Python first checks if the attribute exists in the instance object itself. If found, it is immediately returned.\n",
    "\n",
    "The instance's class: If the attribute is not found in the instance, Python looks for it in the class of the instance. It checks the class's namespace and its ancestors in the order specified by the MRO.\n",
    "\n",
    "Ancestors and their order: If the attribute is not found in the instance's class, Python continues searching in the ancestor classes according to their order in the MRO. It checks each ancestor's namespace until the attribute is found or until the search reaches the topmost ancestor (usually the base object class).\n",
    "\n",
    "AttributeError: If the attribute is not found in any class in the inheritance hierarchy, Python raises an AttributeError exception."
   ]
  },
  {
   "cell_type": "markdown",
   "metadata": {},
   "source": [
    "Answer3\n",
    "Class Object:\n",
    "\n",
    "A class object is created when you define a class in Python. It serves as a blueprint or a template for creating instances of that class.\n",
    "The class object defines the structure and behavior of the instances that will be created based on it.\n",
    "It contains class-level attributes (variables) and methods that are shared among all instances of the class.\n",
    "Class objects are created using the class keyword and can be assigned to variables for further use.\n",
    "Example:\n",
    "\n",
    "\n",
    "class MyClass:\n",
    "    class_variable = \"I am a class variable\"\n",
    "\n",
    "    def class_method(self):\n",
    "        print(\"This is a class method\")\n",
    "\n",
    "# Creating a class object\n",
    "my_class_object = MyClass()\n",
    "Instance Object:\n",
    "\n",
    "An instance object, also known as an instance, is created by calling the class object as if it were a function.\n",
    "Instances are unique objects that are created based on the class's blueprint, inheriting its attributes and methods.\n",
    "Each instance has its own set of instance-level attributes and can have different values for those attributes.\n",
    "Instances can access and modify both instance-level attributes and class-level attributes (shared among instances).\n",
    "Instance objects are typically used to represent individual objects or entities that are instances of a particular class.\n",
    "Example:\n",
    "\n",
    "class MyClass:\n",
    "    class_variable = \"I am a class variable\"\n",
    "\n",
    "    def __init__(self, instance_variable):\n",
    "        self.instance_variable = instance_variable\n",
    "\n",
    "    def instance_method(self):\n",
    "        print(\"This is an instance method\")\n",
    "\n",
    "# Creating instance objects\n",
    "instance1 = MyClass(\"Instance 1\")\n",
    "instance2 = MyClass(\"Instance 2\")"
   ]
  },
  {
   "cell_type": "markdown",
   "metadata": {},
   "source": [
    "Answer4\n",
    "n Python, the first argument in a class's method function is conventionally named self, although you can technically choose any name for it. This first argument represents the instance object itself and is automatically passed when a method is called on an instance. It is a reference to the specific instance that the method is being called on.\n",
    "\n",
    "Instance Binding: When you call a method on an instance object, the instance is automatically passed as the first argument to the method. This is known as \"instance binding\" or \"binding self.\"\n",
    "\n",
    "Accessing Instance Attributes: Within the method, you can use self to access and manipulate the instance's attributes.By using self, you can differentiate between the instance's attributes and local variables within the method.\n",
    "\n",
    "Calling Other Methods: With self, you can call other methods defined within the class. By using self.method_name(), you invoke another method on the same instance, allowing you to perform additional operations or delegate tasks within the class.\n",
    "\n",
    "class MyClass:\n",
    "    def __init__(self, value):\n",
    "        self.value = value\n",
    "\n",
    "    def print_value(self):\n",
    "        print(\"Value:\", self.value)\n",
    "\n",
    "    def update_value(self, new_value):\n",
    "        self.value = new_value\n",
    "\n",
    "# Creating an instance and calling methods\n",
    "my_instance = MyClass(10)\n",
    "my_instance.print_value()  \n",
    "\n",
    "my_instance.update_value(20)\n",
    "my_instance.print_value()  \n"
   ]
  },
  {
   "cell_type": "markdown",
   "metadata": {},
   "source": [
    "Answer5\n",
    "\n",
    "The __init__ method in Python is a special method, also known as a constructor. It is automatically called when a new instance of a class is created. The purpose of the __init__ method is to initialize the attributes or state of the instance object.\n",
    "\n",
    "\n",
    "Initialization: The __init__ method allows you to define the initial state of an instance by setting its attributes to specific values. It is commonly used to assign values to instance variables based on arguments passed when creating the instance.\n",
    "\n",
    "Automatic Invocation: When you create a new instance of a class using the class name followed by parentheses (e.g., my_instance = MyClass()), the __init__ method is automatically called, and the newly created instance is passed as the first argument (self)."
   ]
  },
  {
   "cell_type": "markdown",
   "metadata": {},
   "source": [
    "Answer6"
   ]
  },
  {
   "cell_type": "code",
   "execution_count": 1,
   "metadata": {},
   "outputs": [
    {
     "name": "stdout",
     "output_type": "stream",
     "text": [
      "10\n",
      "20\n",
      "Value: 20\n"
     ]
    }
   ],
   "source": [
    "# Step 1: Define the Class\n",
    "class MyClass:\n",
    "    def __init__(self, value):\n",
    "        self.value = value\n",
    "\n",
    "    def print_value(self):\n",
    "        print(\"Value:\", self.value)\n",
    "\n",
    "# Step 2: Instantiate the Class\n",
    "my_instance = MyClass(10)\n",
    "\n",
    "# Step 3: Access and Modify Instance Attributes\n",
    "print(my_instance.value)  \n",
    "my_instance.value = 20\n",
    "print(my_instance.value)\n",
    "# Call an instance method\n",
    "my_instance.print_value()  "
   ]
  },
  {
   "cell_type": "markdown",
   "metadata": {},
   "source": [
    "Answer7"
   ]
  },
  {
   "cell_type": "code",
   "execution_count": 2,
   "metadata": {},
   "outputs": [],
   "source": [
    "# Step 1: Use the 'class' keyword\n",
    "class MyClass:\n",
    "    # Step 2: Define the class body\n",
    "    class_variable = \"I am a class variable\"\n",
    "\n",
    "    def __init__(self, value):\n",
    "        self.instance_variable = value\n",
    "\n",
    "    def instance_method(self):\n",
    "        print(\"This is an instance method\")\n",
    "\n",
    "    # Additional methods can be defined \n",
    "\n",
    "# Creating an instance of the class\n",
    "my_instance = MyClass(10)\n"
   ]
  },
  {
   "cell_type": "markdown",
   "metadata": {},
   "source": [
    "Answer8\n",
    "To define the superclasses (also known as base classes or parent classes) of a class in Python, you specify them within the parentheses after the class name in the class declaration. This process is known as class inheritance, where a class inherits attributes and methods from its superclass(es).\n",
    "\n"
   ]
  },
  {
   "cell_type": "code",
   "execution_count": 3,
   "metadata": {},
   "outputs": [
    {
     "name": "stdout",
     "output_type": "stream",
     "text": [
      "Buddy\n",
      "Woof!\n",
      "Smokey\n",
      "Meow!\n"
     ]
    }
   ],
   "source": [
    "class Animal:\n",
    "    def __init__(self, name):\n",
    "        self.name = name\n",
    "\n",
    "    def sound(self):\n",
    "        pass\n",
    "\n",
    "class Dog(Animal):\n",
    "    def sound(self):\n",
    "        return \"Woof!\"\n",
    "\n",
    "class Cat(Animal):\n",
    "    def sound(self):\n",
    "        return \"Meow!\"\n",
    "\n",
    "# Creating instances and calling methods\n",
    "dog = Dog(\"Buddy\")\n",
    "print(dog.name)\n",
    "print(dog.sound())\n",
    "\n",
    "cat = Cat(\"Smokey\")\n",
    "print(cat.name)      \n",
    "print(cat.sound())  "
   ]
  },
  {
   "cell_type": "code",
   "execution_count": null,
   "metadata": {},
   "outputs": [],
   "source": []
  }
 ],
 "metadata": {
  "kernelspec": {
   "display_name": "base",
   "language": "python",
   "name": "python3"
  },
  "language_info": {
   "codemirror_mode": {
    "name": "ipython",
    "version": 3
   },
   "file_extension": ".py",
   "mimetype": "text/x-python",
   "name": "python",
   "nbconvert_exporter": "python",
   "pygments_lexer": "ipython3",
   "version": "3.10.9"
  },
  "orig_nbformat": 4
 },
 "nbformat": 4,
 "nbformat_minor": 2
}
