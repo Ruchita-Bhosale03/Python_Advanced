{
 "cells": [
  {
   "cell_type": "markdown",
   "metadata": {},
   "source": [
    "Answer1\n",
    "\n",
    "An abstract class can be considered as a blueprint for other classes. It allows you to create a set of methods that must be created within any child classes built from the abstract class. A class which contains one or more abstract methods is called an abstract class. An abstract method is a method that has a declaration but does not have an implementation. While we are designing large functional units we use an abstract class. When we want to provide a common interface for different implementations of a component, we use an abstract class. "
   ]
  },
  {
   "cell_type": "markdown",
   "metadata": {},
   "source": [
    "Answer2\n",
    "\n",
    "In Python, when a class statement's top level contains a basic assignment statement (a regular variable assignment), that statement will be executed immediately and only once when the class is defined. The assigned value will become a class attribute, accessible to all instances of the class, but it will not be re-evaluated or executed again when instances of the class are created."
   ]
  },
  {
   "cell_type": "markdown",
   "metadata": {},
   "source": [
    "Answer3\n",
    "\n",
    "In object-oriented programming, when a class inherits from a superclass (also known as a parent or base class), it can extend the functionality of the superclass by adding new attributes and methods or by overriding existing ones. To properly initialize the inherited attributes and behavior defined in the superclass, the subclass needs to call the superclass's __init__ method explicitly\n"
   ]
  },
  {
   "cell_type": "markdown",
   "metadata": {},
   "source": [
    "Answer4\n",
    "\n",
    "In object-oriented programming, when you inherit a method from a parent class, you have the option to augment or override that method in the child class. Augmenting a method means extending its functionality without completely replacing it. This way, you can preserve the original behavior of the inherited method while adding some additional functionality specific to the child class."
   ]
  },
  {
   "cell_type": "code",
   "execution_count": 5,
   "metadata": {},
   "outputs": [
    {
     "name": "stdout",
     "output_type": "stream",
     "text": [
      "This is the original behaviour\n",
      "This is the augmented behaviour\n"
     ]
    }
   ],
   "source": [
    "class ParentClass:\n",
    "    def method_to_augment(self):\n",
    "        print(\"This is the original behaviour\")\n",
    "\n",
    "class ChildClass(ParentClass):\n",
    "    def method_to_augment(self):\n",
    "        super().method_to_augment()\n",
    "\n",
    "        print(\"This is the augmented behaviour\")\n",
    "\n",
    "child_instance = ChildClass()\n",
    "child_instance.method_to_augment()\n",
    "\n"
   ]
  },
  {
   "cell_type": "markdown",
   "metadata": {},
   "source": [
    "Answer5\n",
    "\n",
    "Local Scope of a Function:\n",
    "In programming languages like Python, a function has its own local scope. When you define variables inside a function, they are considered local to that function. It means these variables can only be accessed and used within the function's body and are not visible outside the function. The local scope of a function exists only when the function is called, and it is created and destroyed during the function's execution.\n",
    "\n",
    "\n",
    "Local Scope of a Class:\n",
    "In object-oriented programming, a class also has its own local scope, but the concept of \"local\" is somewhat different. In the context of a class, \"local\" refers to attributes and methods that are specific to an instance of the class. These attributes and methods are accessible only through the instance of the class, and they are not shared among different instances of the class. Each instance of the class maintains its own set of instance variables  and methods."
   ]
  },
  {
   "cell_type": "code",
   "execution_count": null,
   "metadata": {},
   "outputs": [],
   "source": [
    "\n"
   ]
  }
 ],
 "metadata": {
  "kernelspec": {
   "display_name": "base",
   "language": "python",
   "name": "python3"
  },
  "language_info": {
   "codemirror_mode": {
    "name": "ipython",
    "version": 3
   },
   "file_extension": ".py",
   "mimetype": "text/x-python",
   "name": "python",
   "nbconvert_exporter": "python",
   "pygments_lexer": "ipython3",
   "version": "3.10.9"
  },
  "orig_nbformat": 4
 },
 "nbformat": 4,
 "nbformat_minor": 2
}
