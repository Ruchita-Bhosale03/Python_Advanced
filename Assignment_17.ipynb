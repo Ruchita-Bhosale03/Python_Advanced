{
 "cells": [
  {
   "cell_type": "markdown",
   "metadata": {},
   "source": [
    "Answer1\n",
    "\n",
    "Greedy vs. Non-Greedy (Lazy) Syntax:\n",
    "\n",
    "Greedy: Matches as much as possible while still allowing the entire pattern to match.\n",
    "Non-Greedy (Lazy): Matches as little as possible while still allowing the entire pattern to match.\n",
    "Transforming Greedy to Non-Greedy:\n",
    "Change the quantifier (+, *, ?, {n,}, {n,m}) to its lazy version by adding a question mark (?) after it.\n",
    "\n",
    "For example:\n",
    "\n",
    "Greedy: .*\n",
    "Non-Greedy: .*?\n",
    "Or:\n",
    "\n",
    "Greedy: a+\n",
    "Non-Greedy: a+?"
   ]
  },
  {
   "cell_type": "markdown",
   "metadata": {},
   "source": [
    "Answer2\n",
    "\n",
    "Greedy Matching:\n",
    "A greedy quantifier (e.g., *, +, ?, {n,}, {n,m}) will match as much text as possible while still allowing the entire pattern to match. It tries to consume as many characters as it can, and if the overall pattern fails to match, it backtracks to find other valid matches.\n",
    "\n",
    "Non-Greedy (Lazy) Matching:\n",
    "A non-greedy quantifier (indicated by adding a question mark ? after the quantifier, e.g., *?, +?, ??, {n,}?, {n,m}?) will match as little text as possible while still allowing the entire pattern to match. It tries to consume as few characters as possible and gives up characters if needed to find other valid matches.\n",
    "\n",
    "Scenario 1: Multiple Occurrences of the Pattern\n",
    "Consider the input text: \"aaaaaab\". We want to find matches for the pattern \"a+?\" (non-greedy) and \"a+\" (greedy).\n",
    "\n",
    "Non-greedy: \"a+?\" will match \"a\" (first occurrence) and \"a\" (second occurrence) separately.\n",
    "Greedy: \"a+\" will match \"aaaaaa\" (first occurrence) and \"a\" (second occurrence).\n",
    "In this scenario, the non-greedy pattern finds individual occurrences of \"a,\" while the greedy pattern tries to match as many \"a\" characters as possible in a single match.\n",
    "\n",
    "Scenario 2: Only Greedy Match Available\n",
    "In some cases, there might not be multiple occurrences of the pattern to match, and the only available match is the greedy one.\n",
    "\n",
    "For example, consider the input text: \"aaaaa\". We want to find a match for the pattern \"a+?\" (non-greedy).\n",
    "\n",
    "In this case, the non-greedy pattern \"a+?\" will still find a match, but it will behave like the greedy pattern \"a+\" because there's only one contiguous sequence of \"a\" characters in the input. The non-greedy quantifier will consume all the \"a\" characters to ensure the entire pattern matches."
   ]
  },
  {
   "cell_type": "markdown",
   "metadata": {},
   "source": [
    "Answer3\n",
    "\n",
    "A capturing group is a part of a regular expression pattern enclosed in parentheses (e.g., (pattern)). When a match is found, the content matched by the capturing group is stored in memory and can be accessed later using backreferences or special variables.\n",
    "\n",
    "On the other hand, a non-capturing group is also enclosed in parentheses but starts with ?: (e.g., (?:pattern)). It behaves like a regular capturing group in terms of matching the specified pattern, but it does not create a separate memory capture for the matched content. It is useful when you want to group a part of the pattern for quantification or alternation without needing to store the matched content for later use.\n",
    "\n",
    "In a simple match where you only want to find one match and don't plan to use backreferences or access the matched content programmatically, the choice between a capturing group and a non-capturing group is not likely to have a practical impact on the match itself."
   ]
  },
  {
   "cell_type": "markdown",
   "metadata": {},
   "source": [
    "Answer4\n",
    "\n",
    "Let's consider a scenario where we want to extract information from a text containing a list of names and ages. Each entry is in the format \"Name: Age\". We want to extract the names but handle the ages differently based on whether they are single-digit or double-digit ages."
   ]
  },
  {
   "cell_type": "code",
   "execution_count": 1,
   "metadata": {},
   "outputs": [
    {
     "name": "stdout",
     "output_type": "stream",
     "text": [
      "[('John', '25'), ('Jane', '30'), ('Michael', '7'), ('Sarah', '42')]\n",
      "John is an adult.\n",
      "Jane is an adult.\n",
      "Michael is a child.\n",
      "Sarah is an adult.\n"
     ]
    }
   ],
   "source": [
    "#Pattern with a Tagged Category (Capturing Group):\n",
    "\n",
    "\n",
    "import re\n",
    "\n",
    "text = \"John: 25, Jane: 30, Michael: 7, Sarah: 42\"\n",
    "pattern_with_capture = r\"(\\w+): (\\d+)\"\n",
    "\n",
    "matches_with_capture = re.findall(pattern_with_capture, text)\n",
    "print(matches_with_capture)\n",
    "# Output: [('John', '25'), ('Jane', '30'), ('Michael', '7'), ('Sarah', '42')]\n",
    "\n",
    "for name, age in matches_with_capture:\n",
    "    age = int(age)\n",
    "    if age < 10:\n",
    "        print(f\"{name} is a child.\")\n",
    "    else:\n",
    "        print(f\"{name} is an adult.\")\n"
   ]
  },
  {
   "cell_type": "code",
   "execution_count": 2,
   "metadata": {},
   "outputs": [
    {
     "name": "stdout",
     "output_type": "stream",
     "text": [
      "['25', '30', '7', '42']\n",
      "An adult.\n",
      "An adult.\n",
      "A child.\n",
      "An adult.\n"
     ]
    }
   ],
   "source": [
    "#Pattern with a Non-Tagged Category (Non-Capturing Group):\n",
    "\n",
    "import re\n",
    "\n",
    "text = \"John: 25, Jane: 30, Michael: 7, Sarah: 42\"\n",
    "pattern_with_non_capture = r\"\\w+: (\\d+)\"\n",
    "\n",
    "matches_with_non_capture = re.findall(pattern_with_non_capture, text)\n",
    "print(matches_with_non_capture)\n",
    "# Output: ['25', '30', '7', '42']\n",
    "\n",
    "for age in matches_with_non_capture:\n",
    "    age = int(age)\n",
    "    if age < 10:\n",
    "        print(\"A child.\")\n",
    "    else:\n",
    "        print(\"An adult.\")\n"
   ]
  },
  {
   "cell_type": "markdown",
   "metadata": {},
   "source": [
    "Answer5\n",
    "\n",
    "Let's consider a scenario where we want to match email addresses that are followed by a specific domain but without including the domain in the final match. We want to extract the username part of the email address without including the \"@example.com\" domain."
   ]
  },
  {
   "cell_type": "code",
   "execution_count": 3,
   "metadata": {},
   "outputs": [
    {
     "name": "stdout",
     "output_type": "stream",
     "text": [
      "['john', 'jane', 'sarah']\n"
     ]
    }
   ],
   "source": [
    "import re\n",
    "\n",
    "text = \"Emails: john@example.com, jane@example.com, mike@example.net, sarah@example.com\"\n",
    "pattern_with_lookahead = r\"\\w+(?=@example\\.com)\"\n",
    "\n",
    "matches_with_lookahead = re.findall(pattern_with_lookahead, text)\n",
    "print(matches_with_lookahead)\n",
    "# Output: ['john', 'jane', 'sarah']\n"
   ]
  },
  {
   "cell_type": "code",
   "execution_count": 4,
   "metadata": {},
   "outputs": [
    {
     "name": "stdout",
     "output_type": "stream",
     "text": [
      "['john@example.com', 'jane@example.com', 'sarah@example.com']\n"
     ]
    }
   ],
   "source": [
    "#Pattern without Look-ahead (Consuming):\n",
    "import re\n",
    "\n",
    "text = \"Emails: john@example.com, jane@example.com, mike@example.net, sarah@example.com\"\n",
    "pattern_without_lookahead = r\"\\w+@example\\.com\"\n",
    "\n",
    "matches_without_lookahead = re.findall(pattern_without_lookahead, text)\n",
    "print(matches_without_lookahead)\n",
    "# Output: ['john@example.com', 'jane@example.com', 'sarah@example.com']\n",
    "\n"
   ]
  },
  {
   "cell_type": "markdown",
   "metadata": {},
   "source": [
    "Answer6\n",
    "\n",
    "Positive Look-ahead (?=pattern)\n",
    "\n",
    "Syntax: (?=pattern)\n",
    "Also known as a positive lookahead assertion.\n",
    "Positive look-ahead is used to assert that a particular pattern must be present immediately after the current position, without including it in the actual match.\n",
    "It is used to ensure that a certain condition exists ahead, but it does not consume any characters in the string.\n",
    "For example, the regular expression apple(?=pie) will match \"apple\" only if it is followed by \"pie,\" but \"pie\" will not be part of the match.\n",
    "Negative Look-ahead (?!pattern)\n",
    "\n",
    "Syntax: (?!pattern)\n",
    "Also known as a negative lookahead assertion.\n",
    "Negative look-ahead is used to assert that a particular pattern must NOT be present immediately after the current position.\n",
    "Like positive look-ahead, it does not consume any characters in the string.\n",
    "It is used to ensure that a certain condition does not exist ahead.\n",
    "For example, the regular expression apple(?!pie) will match \"apple\" only if it is NOT followed by \"pie.\" If \"pie\" appears after \"apple,\" the whole match fails."
   ]
  },
  {
   "cell_type": "markdown",
   "metadata": {},
   "source": [
    "Answer7\n",
    "\n",
    "Improved Code Readability: Named capturing groups provide self-documenting code. By using descriptive names for the groups, the intention of the regular expression becomes clearer to anyone reading the code. It's easier to understand what each group represents, making the regex more maintainable.\n",
    "\n",
    "Clarity in Group Usage: When using numbered capturing groups, it can become confusing, especially in complex regex patterns, to remember which group corresponds to what captured content. \n",
    "\n",
    "Named Backreferences: When you want to reuse a captured group later in the same regular expression, named capturing groups allow you to do so with ease. Instead of referring to a group by its number, you can simply reference it by its name, which is more intuitive and less error-prone.\n",
    "\n",
    "Maintaining Compatibility: When working with regex patterns in programming languages or libraries that support named capturing groups, using names helps ensure compatibility across different platforms.\n",
    "\n",
    "Enhanced Debugging: Named capturing groups can assist in debugging regular expressions. If you encounter an issue with a specific part of the pattern, having meaningful names associated with groups makes it easier to identify the problem and fix it."
   ]
  },
  {
   "cell_type": "markdown",
   "metadata": {},
   "source": [
    "Answer8"
   ]
  },
  {
   "cell_type": "code",
   "execution_count": 5,
   "metadata": {},
   "outputs": [
    {
     "name": "stdout",
     "output_type": "stream",
     "text": [
      "['moon']\n"
     ]
    }
   ],
   "source": [
    "import re\n",
    "\n",
    "# Target string\n",
    "target_string = \"The cow jumped over the moon moon\"\n",
    "\n",
    "# Regular expression to find repeated words\n",
    "pattern = r'\\b(?P<word>\\w+)\\b.*\\b(?P=word)\\b'\n",
    "\n",
    "# Find repeated words using re.findall\n",
    "repeated_words = re.findall(pattern, target_string)\n",
    "\n",
    "# Output the repeated words\n",
    "print(repeated_words)  "
   ]
  },
  {
   "cell_type": "markdown",
   "metadata": {},
   "source": [
    "Answer9\n",
    "\n",
    "For example, using the Scanner interface in Java, you can easily split a string into individual words, numbers, or other specific units by defining the corresponding regular expressions as delimiters. This process is more flexible than re.findall, which only finds and returns complete matches of a given pattern.\n",
    "\n",
    "Iteration and State Maintenance: The Scanner interface typically maintains a state and allows you to iterate through the parsed tokens one by one. This enables you to process the tokens sequentially and perform different actions based on their types."
   ]
  },
  {
   "cell_type": "markdown",
   "metadata": {},
   "source": [
    "Answer10\n",
    "\n",
    "\n",
    "No, a Scanner object does not have to be named \"scanner.\" Like any other variable in programming, you can choose any valid identifier as the name for a Scanner object. The name of the object is simply a reference that allows you to interact with it in your code."
   ]
  },
  {
   "cell_type": "code",
   "execution_count": null,
   "metadata": {},
   "outputs": [],
   "source": []
  }
 ],
 "metadata": {
  "kernelspec": {
   "display_name": "base",
   "language": "python",
   "name": "python3"
  },
  "language_info": {
   "codemirror_mode": {
    "name": "ipython",
    "version": 3
   },
   "file_extension": ".py",
   "mimetype": "text/x-python",
   "name": "python",
   "nbconvert_exporter": "python",
   "pygments_lexer": "ipython3",
   "version": "3.10.9"
  },
  "orig_nbformat": 4
 },
 "nbformat": 4,
 "nbformat_minor": 2
}
