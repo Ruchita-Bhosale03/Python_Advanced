{
 "cells": [
  {
   "cell_type": "markdown",
   "metadata": {},
   "source": [
    "Answer2\n",
    "\n",
    "No, assigning a value to a string's indexed character does not violate Python's string immutability. Python strings are immutable, which means you cannot change their individual characters after they are created"
   ]
  },
  {
   "cell_type": "code",
   "execution_count": 1,
   "metadata": {},
   "outputs": [
    {
     "name": "stdout",
     "output_type": "stream",
     "text": [
      "Hello, World!\n",
      "HelloPython!\n"
     ]
    }
   ],
   "source": [
    "my_string = \"Hello, World!\"\n",
    "new_string = my_string[:5] + \"Python\" + my_string[12:]\n",
    "print(my_string)  \n",
    "print(new_string) \n"
   ]
  },
  {
   "cell_type": "markdown",
   "metadata": {},
   "source": [
    "Answer2\n",
    "\n",
    "Using the += operator to concatenate strings in Python does not violate Python's string immutability. The += operator is supported for strings and works as an in-place concatenation, but it does not directly modify the original string.\n",
    "\n",
    "It's worth noting that while using += for string concatenation is convenient, it can potentially lead to performance issues for large-scale concatenations due to the creation of new string objects. For more complex string manipulations or concatenations involving many strings, consider using the str.join() method or the += operator with a list of strings to minimize the creation of intermediate string objects."
   ]
  },
  {
   "cell_type": "code",
   "execution_count": 4,
   "metadata": {},
   "outputs": [
    {
     "name": "stdout",
     "output_type": "stream",
     "text": [
      "Hello, World!\n"
     ]
    }
   ],
   "source": [
    "original_string = \"Hello, \"\n",
    "original_string += \"World!\"\n",
    "print(original_string)  "
   ]
  },
  {
   "cell_type": "markdown",
   "metadata": {},
   "source": [
    "Answer3"
   ]
  },
  {
   "cell_type": "code",
   "execution_count": 2,
   "metadata": {},
   "outputs": [
    {
     "name": "stdout",
     "output_type": "stream",
     "text": [
      "H\n",
      "o\n",
      "!\n"
     ]
    }
   ],
   "source": [
    "#Using Positive Indexing:\n",
    "\n",
    "my_string = \"Hello, World!\"\n",
    "print(my_string[0])\n",
    "print(my_string[4])\n",
    "print(my_string[12])\n"
   ]
  },
  {
   "cell_type": "code",
   "execution_count": null,
   "metadata": {},
   "outputs": [],
   "source": [
    "#Using Negative Indexing"
   ]
  },
  {
   "cell_type": "code",
   "execution_count": 3,
   "metadata": {},
   "outputs": [
    {
     "name": "stdout",
     "output_type": "stream",
     "text": [
      "!\n",
      "l\n",
      "H\n"
     ]
    }
   ],
   "source": [
    "my_string = \"Hello, World!\"\n",
    "print(my_string[-1])  \n",
    "print(my_string[-3])  \n",
    "print(my_string[-13])"
   ]
  },
  {
   "cell_type": "markdown",
   "metadata": {},
   "source": [
    "Answer4\n",
    "\n",
    "Indexing is used to access a specific element (character) at a given position in the sequence.\n",
    "In Python, indexing starts at 0 for positive indices, and negative indices count from the end of the sequence, starting at -1.\n",
    "You can use square brackets [] with an index value inside to access a single element at that index."
   ]
  },
  {
   "cell_type": "code",
   "execution_count": 5,
   "metadata": {},
   "outputs": [
    {
     "name": "stdout",
     "output_type": "stream",
     "text": [
      "H\n"
     ]
    }
   ],
   "source": [
    "#indexing\n",
    "\n",
    "my_string = \"Hello, World!\"\n",
    "print(my_string[0]) "
   ]
  },
  {
   "cell_type": "markdown",
   "metadata": {},
   "source": [
    "Slicing is used to access a sequence of elements (characters) from the original sequence, forming a new sequence (substring or subsequence).\n",
    "It allows you to extract a portion of the original sequence by specifying a start index and an end index (exclusive).\n",
    "Slicing is done using the colon : operator inside square brackets []."
   ]
  },
  {
   "cell_type": "code",
   "execution_count": 6,
   "metadata": {},
   "outputs": [
    {
     "name": "stdout",
     "output_type": "stream",
     "text": [
      "Hello\n"
     ]
    }
   ],
   "source": [
    "my_string = \"Hello, World!\"\n",
    "print(my_string[0:5])    "
   ]
  },
  {
   "cell_type": "markdown",
   "metadata": {},
   "source": [
    "Answer5"
   ]
  },
  {
   "cell_type": "code",
   "execution_count": 7,
   "metadata": {},
   "outputs": [
    {
     "name": "stdout",
     "output_type": "stream",
     "text": [
      "<class 'str'>\n"
     ]
    }
   ],
   "source": [
    "#indexed character's data type\n",
    "my_string = \"Hello, World!\"\n",
    "indexed_character = my_string[0]  \n",
    "print(type(indexed_character))\n"
   ]
  },
  {
   "cell_type": "code",
   "execution_count": null,
   "metadata": {},
   "outputs": [],
   "source": [
    "# data form of sclicing generated substring\n",
    "my_string = \"Hello, World!\"\n",
    "substring = my_string[0:5]  \n",
    "print(type(substring))      "
   ]
  },
  {
   "cell_type": "markdown",
   "metadata": {},
   "source": [
    "Answer6\n",
    "\n",
    "Strings:\n",
    "\n",
    "A string is a sequence of characters enclosed within single quotes (' '), double quotes (\" \"), or triple quotes (''' ''' or \"\"\" \"\"\").\n",
    "Strings are iterable objects that can contain zero or more characters and are represented by the str data type.\n",
    "Each character within a string is treated as an individual element in the sequence, allowing you to access, manipulate, and iterate over each character.\n",
    "\n",
    "A character is a single unit of information, representing a single letter, digit, symbol, or space.\n",
    "In Python, characters are represented as individual elements of a string, where each character is a single-character string.\n",
    "Even though Python doesn't have a separate \"character\" data type, characters are essentially strings with a length of 1."
   ]
  },
  {
   "cell_type": "code",
   "execution_count": 8,
   "metadata": {},
   "outputs": [
    {
     "name": "stdout",
     "output_type": "stream",
     "text": [
      "<class 'str'>\n"
     ]
    }
   ],
   "source": [
    "char1 = 'H'\n",
    "char2 = 'e'\n",
    "char3 = 'l'\n",
    "print(type(char1))  \n"
   ]
  },
  {
   "cell_type": "markdown",
   "metadata": {},
   "source": [
    "Answer7\n",
    "\n",
    "String Concatenation Operator (+):\n",
    "\n",
    "The + operator is used for string concatenation, allowing you to combine two or more strings into a single larger string.\n",
    "When the + operator is used with strings, it concatenates the strings together in the order they appear.\n"
   ]
  },
  {
   "cell_type": "code",
   "execution_count": 9,
   "metadata": {},
   "outputs": [
    {
     "name": "stdout",
     "output_type": "stream",
     "text": [
      "Hello, World!\n"
     ]
    }
   ],
   "source": [
    "string1 = \"Hello, \"\n",
    "string2 = \"World!\"\n",
    "result = string1 + string2\n",
    "print(result) "
   ]
  },
  {
   "cell_type": "markdown",
   "metadata": {},
   "source": [
    "f-strings are a string formatting mechanism introduced in Python 3.6 and later versions.\n",
    "They allow you to embed expressions and variables directly within a string, facilitating string interpolation and concatenation."
   ]
  },
  {
   "cell_type": "code",
   "execution_count": 10,
   "metadata": {},
   "outputs": [
    {
     "name": "stdout",
     "output_type": "stream",
     "text": [
      "Hello, my name is Alice and I am 30 years old.\n"
     ]
    }
   ],
   "source": [
    "name = \"Alice\"\n",
    "age = 30\n",
    "greeting = f\"Hello, my name is {name} and I am {age} years old.\"\n",
    "print(greeting)"
   ]
  },
  {
   "cell_type": "markdown",
   "metadata": {},
   "source": [
    "String .join() Method:\n",
    "\n",
    "The join() method is used to concatenate multiple strings from an iterable (e.g., list, tuple) into a single string.\n",
    "It takes an iterable as an argument and returns a string where the elements of the iterable are joined by the string on which the method is called."
   ]
  },
  {
   "cell_type": "code",
   "execution_count": 11,
   "metadata": {},
   "outputs": [
    {
     "name": "stdout",
     "output_type": "stream",
     "text": [
      "Hello, World, Python\n"
     ]
    }
   ],
   "source": [
    "words = ['Hello', 'World', 'Python']\n",
    "separator = ', '\n",
    "combined_string = separator.join(words)\n",
    "print(combined_string)  "
   ]
  },
  {
   "cell_type": "markdown",
   "metadata": {},
   "source": [
    "Answer8\n",
    "\n",
    "The benefit of first checking the target string with in or not in before using the index() method to find a substring lies in avoiding potential ValueError exceptions.\n",
    "\n",
    "The index() method is used to find the index of the first occurrence of a specified substring within a string. If the substring is not found in the target string, the index() method raises a ValueError.\n",
    "\n",
    "By using in or not in to check for the existence of the substring before calling index(), you can handle the case where the substring is not present, and your code can gracefully handle the situation without raising an exception."
   ]
  },
  {
   "cell_type": "markdown",
   "metadata": {},
   "source": [
    "Answer9\n",
    "Comparison Operators"
   ]
  },
  {
   "cell_type": "code",
   "execution_count": 12,
   "metadata": {},
   "outputs": [
    {
     "name": "stdout",
     "output_type": "stream",
     "text": [
      "False\n",
      "True\n",
      "True\n",
      "False\n"
     ]
    }
   ],
   "source": [
    "str1 = \"Hello\"\n",
    "str2 = \"World\"\n",
    "print(str1 == str2)    \n",
    "print(str1 != str2)    \n",
    "print(str1 < str2)     \n",
    "print(str1 >= str2)    "
   ]
  },
  {
   "cell_type": "code",
   "execution_count": 13,
   "metadata": {},
   "outputs": [
    {
     "name": "stdout",
     "output_type": "stream",
     "text": [
      "True\n",
      "True\n"
     ]
    }
   ],
   "source": [
    "#Built-in String Methods:\n",
    "\n",
    "my_string = \"Hello, World!\"\n",
    "print(my_string.startswith(\"Hello\"))  \n",
    "print(my_string.endswith(\"World!\"))   \n"
   ]
  },
  {
   "cell_type": "code",
   "execution_count": 14,
   "metadata": {},
   "outputs": [
    {
     "name": "stdout",
     "output_type": "stream",
     "text": [
      "True\n",
      "True\n",
      "True\n",
      "False\n",
      "False\n",
      "False\n"
     ]
    }
   ],
   "source": [
    "\n",
    "str1 = \"Hello\"\n",
    "str2 = \"123\"\n",
    "str3 = \"Hello123\"\n",
    "print(str1.isalpha())  \n",
    "print(str2.isdigit())  \n",
    "print(str3.isalnum())\n",
    "print(str1.isspace())  \n",
    "print(str1.islower())\n",
    "print(str1.isupper())"
   ]
  },
  {
   "cell_type": "code",
   "execution_count": 15,
   "metadata": {},
   "outputs": [
    {
     "name": "stdout",
     "output_type": "stream",
     "text": [
      "True\n",
      "False\n"
     ]
    }
   ],
   "source": [
    "my_string = \"Hello, World!\"\n",
    "print(\"World\" in my_string) \n",
    "print(\"Python\" in my_string) \n"
   ]
  },
  {
   "cell_type": "code",
   "execution_count": null,
   "metadata": {},
   "outputs": [],
   "source": []
  }
 ],
 "metadata": {
  "kernelspec": {
   "display_name": "base",
   "language": "python",
   "name": "python3"
  },
  "language_info": {
   "codemirror_mode": {
    "name": "ipython",
    "version": 3
   },
   "file_extension": ".py",
   "mimetype": "text/x-python",
   "name": "python",
   "nbconvert_exporter": "python",
   "pygments_lexer": "ipython3",
   "version": "3.10.9"
  },
  "orig_nbformat": 4
 },
 "nbformat": 4,
 "nbformat_minor": 2
}
