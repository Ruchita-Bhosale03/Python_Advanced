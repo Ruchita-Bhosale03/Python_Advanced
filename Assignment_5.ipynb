{
 "cells": [
  {
   "cell_type": "markdown",
   "metadata": {},
   "source": [
    "Answer1\n",
    "\n",
    "Multiple inheritance is a feature in object-oriented programming languages that allows a class to inherit attributes and methods from more than one parent class. In other words, a class can have multiple base classes from which it derives its behavior and functionality."
   ]
  },
  {
   "cell_type": "code",
   "execution_count": 1,
   "metadata": {},
   "outputs": [
    {
     "name": "stdout",
     "output_type": "stream",
     "text": [
      "Method 1 from ParentClass1\n",
      "Method 2 from ParemtClass2\n",
      "child method\n"
     ]
    }
   ],
   "source": [
    "class ParentClass1:\n",
    "    def method1(self):\n",
    "        print(\"Method 1 from ParentClass1\")\n",
    "\n",
    "class ParentClass2:\n",
    "    def method2(self):\n",
    "        print(\"Method 2 from ParemtClass2\")\n",
    "class ChildClass(ParentClass1,ParentClass2):\n",
    "    def child_method(self):\n",
    "        print(\"child method\")\n",
    "\n",
    "child_instance = ChildClass()\n",
    "child_instance.method1()\n",
    "child_instance.method2()\n",
    "child_instance.child_method()"
   ]
  },
  {
   "cell_type": "markdown",
   "metadata": {},
   "source": [
    "Answer2\n",
    "\n",
    "The concept of delegation is a design principle in object-oriented programming where one object forwards or delegates some of its responsibilities to another object. In delegation, an object, known as the delegator or wrapper, holds a reference to another object, known as the delegate. When the delegator receives a method call, it forwards the request to the delegate to handle the operation.\n",
    "\n",
    "Instead of inheriting behavior directly from a superclass, a class can delegate certain tasks to another class that specializes in those tasks. This promotes a more flexible and decoupled design, as changes to the delegate don't necessarily affect the delegator and vice versa."
   ]
  },
  {
   "cell_type": "code",
   "execution_count": 4,
   "metadata": {},
   "outputs": [
    {
     "name": "stdout",
     "output_type": "stream",
     "text": [
      "Starting the car\n",
      "engine started\n",
      "car started\n"
     ]
    }
   ],
   "source": [
    "class Engine:\n",
    "    def start(self):\n",
    "        print(\"engine started\")\n",
    "\n",
    "class car:\n",
    "    def __init__(self):\n",
    "        self.engine=Engine()\n",
    "    \n",
    "    def start(self):\n",
    "        print(\"Starting the car\")\n",
    "        self.engine.start()\n",
    "        print(\"car started\")\n",
    "\n",
    "my_car = car()\n",
    "my_car.start()"
   ]
  },
  {
   "cell_type": "markdown",
   "metadata": {},
   "source": [
    "Answer3\n",
    "\n",
    "\n",
    "The concept of composition is a design principle in object-oriented programming that involves building complex objects by combining simpler objects. Composition allows you to create more complex classes by composing or aggregating multiple objects rather than inheriting from them. This is achieved by including other classes as member variables or properties within the main class."
   ]
  },
  {
   "cell_type": "code",
   "execution_count": 5,
   "metadata": {},
   "outputs": [
    {
     "name": "stdout",
     "output_type": "stream",
     "text": [
      "Starting the car...\n",
      "Engine started.\n",
      "Car started.\n"
     ]
    }
   ],
   "source": [
    "class Engine:\n",
    "    def start(self):\n",
    "        print(\"Engine started.\")\n",
    "\n",
    "class Car:\n",
    "    def __init__(self):\n",
    "        self.engine = Engine()\n",
    "\n",
    "    def start(self):\n",
    "        print(\"Starting the car...\")\n",
    "        self.engine.start()\n",
    "        print(\"Car started.\")\n",
    "\n",
    "my_car = Car()\n",
    "my_car.start()\n"
   ]
  },
  {
   "cell_type": "markdown",
   "metadata": {},
   "source": [
    "Answer4\n",
    "\n",
    "Bound methods are a concept in object-oriented programming, specifically in Python, that refer to methods of a class that are associated with a specific instance of that class. In Python, methods are functions defined within a class, and they usually have access to the instance's data and behavior. When a method is accessed through an instance of the class, it becomes a bound method."
   ]
  },
  {
   "cell_type": "code",
   "execution_count": 6,
   "metadata": {},
   "outputs": [
    {
     "name": "stdout",
     "output_type": "stream",
     "text": [
      "Value: 42\n"
     ]
    }
   ],
   "source": [
    "class MyClass:\n",
    "    def __init__(self, value):\n",
    "        self.value = value\n",
    "\n",
    "    def method(self):\n",
    "        print(\"Value:\", self.value)\n",
    "\n",
    "# Create an instance of MyClass\n",
    "obj = MyClass(42)\n",
    "\n",
    "# Calling the method through the instance - it becomes a bound method\n",
    "obj.method()  "
   ]
  },
  {
   "cell_type": "markdown",
   "metadata": {},
   "source": [
    "Answer5\n",
    "\n",
    "The purpose of pseudoprivate attributes is to reduce the risk of accidental attribute name conflicts in a class hierarchy. In Python, attributes that start with two underscores (__) but do not end with two underscores are automatically \"mangled\" with the class name, making them harder to access or accidentally override in subclasses."
   ]
  },
  {
   "cell_type": "code",
   "execution_count": null,
   "metadata": {},
   "outputs": [],
   "source": []
  }
 ],
 "metadata": {
  "kernelspec": {
   "display_name": "base",
   "language": "python",
   "name": "python3"
  },
  "language_info": {
   "codemirror_mode": {
    "name": "ipython",
    "version": 3
   },
   "file_extension": ".py",
   "mimetype": "text/x-python",
   "name": "python",
   "nbconvert_exporter": "python",
   "pygments_lexer": "ipython3",
   "version": "3.10.9"
  },
  "orig_nbformat": 4
 },
 "nbformat": 4,
 "nbformat_minor": 2
}
