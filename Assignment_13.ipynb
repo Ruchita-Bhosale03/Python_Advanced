{
 "cells": [
  {
   "cell_type": "code",
   "execution_count": 1,
   "metadata": {},
   "outputs": [
    {
     "name": "stdout",
     "output_type": "stream",
     "text": [
      "First character: H\n",
      "Last character: !\n"
     ]
    }
   ],
   "source": [
    "#Answer1\n",
    "\n",
    "def get_first_and_last_char(input_string):\n",
    "    first_character = input_string[0]\n",
    "    last_character = input_string[-1]\n",
    "    return first_character, last_character\n",
    "my_string = \"Hello, World!\"\n",
    "\n",
    "first_char,last_char = get_first_and_last_char(my_string)\n",
    "print(\"First character:\", first_char)\n",
    "print(\"Last character:\", last_char)    "
   ]
  },
  {
   "cell_type": "code",
   "execution_count": 4,
   "metadata": {},
   "outputs": [
    {
     "name": "stdout",
     "output_type": "stream",
     "text": [
      "1000\n",
      "[42, 42, 42, 42, 42, 42, 42, 42, 42, 42]\n",
      "[42, 42, 42, 42, 42, 42, 42, 42, 42, 42]\n"
     ]
    }
   ],
   "source": [
    "#Answer2\n",
    "element_value= 42\n",
    "\n",
    "my_list = [element_value]*1000\n",
    "\n",
    "print(len(my_list))\n",
    "print(my_list[:10])\n",
    "print(my_list[-10:])"
   ]
  },
  {
   "cell_type": "code",
   "execution_count": 7,
   "metadata": {},
   "outputs": [
    {
     "name": "stdout",
     "output_type": "stream",
     "text": [
      "[1, 3, 5, 7, 9]\n"
     ]
    }
   ],
   "source": [
    "#Answer3\n",
    "\n",
    "my_list = [1,2,3,4,5,6,7,8,9,10]\n",
    "\n",
    "new_list= my_list[::2]\n",
    "print(new_list)\n",
    "\n"
   ]
  },
  {
   "cell_type": "markdown",
   "metadata": {},
   "source": [
    "Answer4\n",
    "\n",
    "Indexing:\n",
    "\n",
    "Definition:\n",
    "\n",
    "Indexing refers to the process of accessing a single element from a sequence using its position (index) within the sequence.\n",
    "Indexing retrieves an individual element, not a subsequence, and returns that element as a separate value.\n",
    "Notation:\n",
    "\n",
    "Indexing uses square brackets [] with an index value inside to access the desired element.\n",
    "Syntax:\n",
    "\n",
    "Syntax for positive indexing: sequence[index] (where sequence is the sequence object, and index is the non-negative integer representing the position of the desired element).\n",
    "Syntax for negative indexing: sequence[-index] (where index is the non-negative integer representing the position of the desired element counted from the end of the sequence).\n",
    "Returned Value:\n",
    "\n",
    "Indexing returns a single element from the sequence as a separate value of the same data type as the elements in the sequence.\n",
    "Slicing:\n",
    "\n",
    "Definition:\n",
    "\n",
    "Slicing refers to the process of extracting a subsequence (a slice) from the original sequence, containing multiple elements.\n",
    "Slicing creates a new sequence that is a portion of the original sequence.\n",
    "Notation:\n",
    "\n",
    "Slicing uses square brackets [] with start, stop, and step values inside to specify the range of elements to be included in the slice.\n",
    "Syntax:\n",
    "\n",
    "Syntax for slicing: sequence[start:stop:step] (where start, stop, and step are integers determining the slice boundaries and step size).\n",
    "Returned Value:\n",
    "\n",
    "Slicing returns a new sequence (string, list, or tuple) that contains elements from the original sequence within the specified range and step size."
   ]
  },
  {
   "cell_type": "code",
   "execution_count": 8,
   "metadata": {},
   "outputs": [
    {
     "name": "stdout",
     "output_type": "stream",
     "text": [
      "[2, 3, 4, 5]\n"
     ]
    }
   ],
   "source": [
    "#Answer5\n",
    "\n",
    "#If one or more slicing expression indexes are out of range in a string, list, or tuple slicing, Python handles it gracefully without raising an error.\n",
    "my_list = [1, 2, 3, 4, 5]\n",
    "\n",
    "# Slicing with indexes out of range\n",
    "sliced_list = my_list[1:10]\n",
    "print(sliced_list)  \n",
    "\n"
   ]
  },
  {
   "cell_type": "markdown",
   "metadata": {},
   "source": [
    "Answer6\n",
    "\n",
    "If you pass a list to a function and want the function to be able to change the values of the list (i.e., modify the original list), you should avoid reassigning the list parameter to a new list inside the function. Doing so will create a new local reference to a different list, and any modifications made within the function will not affect the original list passed as an argument.\n",
    "Instead, you should directly modify the elements of the original list using their indices or use methods that modify the list in place. "
   ]
  },
  {
   "cell_type": "code",
   "execution_count": 10,
   "metadata": {},
   "outputs": [
    {
     "name": "stdout",
     "output_type": "stream",
     "text": [
      "[100, 200, 300]\n"
     ]
    }
   ],
   "source": [
    "def modify_list_in_place(lst):\n",
    "    lst[0] = 100\n",
    "    lst[1] = 200\n",
    "    lst[2] = 300\n",
    "\n",
    "original_list = [4, 5, 6]\n",
    "modify_list_in_place(original_list)\n",
    "print(original_list)  \n"
   ]
  },
  {
   "cell_type": "markdown",
   "metadata": {},
   "source": [
    "Answer7\n",
    "\n",
    "In the context of matrices, an unbalanced matrix is a matrix where the number of rows and the number of columns are not equal.\n",
    "\n",
    "[1, 2, 3]\n",
    "[4, 5]\n",
    "[7, 8, 9, 10]\n",
    "\n",
    "\n",
    "A balanced matrix, on the other hand, is a matrix with an equal number of rows and columns, meaning it is a square matrix.\n",
    "\n",
    "[1, 2, 3]\n",
    "[4, 5, 6]\n",
    "[7, 8, 9]\n"
   ]
  },
  {
   "cell_type": "markdown",
   "metadata": {},
   "source": [
    "Answer8\n",
    "To create arbitrarily large matrices in Python, it is necessary to use either list comprehension or a loop because they provide a way to generate and initialize elements efficiently without explicitly specifying each element one by one. Creating large matrices manually without these techniques can be impractical and error-prone, especially when dealing with large data sets or complex matrices.\n",
    "\n",
    "Efficiency: List comprehension and loops allow you to generate matrix elements in a concise and efficient manner. They enable you to define the pattern or rule for generating matrix elements, which can be crucial when dealing with large matrices where manual entry is time-consuming and impractical.\n",
    "\n",
    "Flexibility: Using list comprehension or loops provides flexibility in generating matrices with different sizes and patterns. \n",
    "\n",
    "Dynamic Creation: With list comprehension or loops, you can dynamically create matrices based on certain conditions or calculations, making it possible to create matrices with elements derived from mathematical formulas or other data sources."
   ]
  },
  {
   "cell_type": "code",
   "execution_count": 11,
   "metadata": {},
   "outputs": [
    {
     "name": "stdout",
     "output_type": "stream",
     "text": [
      "[[0, 0, 0, 0], [0, 0, 0, 0], [0, 0, 0, 0], [0, 0, 0, 0], [0, 0, 0, 0]]\n"
     ]
    }
   ],
   "source": [
    "rows = 5\n",
    "cols = 4\n",
    "\n",
    "# Using list comprehension to create a 5x4 matrix filled with zeros\n",
    "matrix = [[0 for _ in range(cols)] for _ in range(rows)]\n",
    "\n",
    "print(matrix)"
   ]
  },
  {
   "cell_type": "code",
   "execution_count": null,
   "metadata": {},
   "outputs": [],
   "source": []
  }
 ],
 "metadata": {
  "kernelspec": {
   "display_name": "base",
   "language": "python",
   "name": "python3"
  },
  "language_info": {
   "codemirror_mode": {
    "name": "ipython",
    "version": 3
   },
   "file_extension": ".py",
   "mimetype": "text/x-python",
   "name": "python",
   "nbconvert_exporter": "python",
   "pygments_lexer": "ipython3",
   "version": "3.10.9"
  },
  "orig_nbformat": 4
 },
 "nbformat": 4,
 "nbformat_minor": 2
}
