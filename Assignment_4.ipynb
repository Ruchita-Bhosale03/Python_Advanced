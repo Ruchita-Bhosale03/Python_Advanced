{
 "cells": [
  {
   "cell_type": "markdown",
   "metadata": {},
   "source": [
    "Answer1\n",
    "\n",
    "__iter__() method:\n",
    "The __iter__() method allows you to define the behavior of an iterator when it is created. It should return an iterator object that implements two other special methods: __iter__() (returning the iterator itself) and __next__() (returning the next item in the iteration). When you use a loop or other constructs that require iteration, Python will call the __iter__() method to get the iterator object and then call __next__() repeatedly to fetch the next item until the iteration is complete\n",
    "\n",
    "__getitem__() method:\n",
    "The __getitem__() method allows you to define how objects of your class should behave when indexed or sliced using square brackets ([]). It enables your class to support indexing and iteration using standard Python indexing syntax.\n"
   ]
  },
  {
   "cell_type": "markdown",
   "metadata": {},
   "source": [
    "Answer2\n",
    "\n",
    "The actual printing is typically managed through other mechanisms or built-in Python functions that utilize the iterable behavior provided by these methods. Here's how they are used in the context of printing:\n",
    "\n",
    "The print() function can be used within the loop to print the items obtained from the iterator."
   ]
  },
  {
   "cell_type": "markdown",
   "metadata": {},
   "source": [
    "Answer3\n",
    "\n",
    "To intercept slice operations in a class, you can use the __getitem__() method along with the slice object. The __getitem__() method allows you to define how instances of your class should behave when indexed or sliced using square brackets ([]).\n"
   ]
  },
  {
   "cell_type": "code",
   "execution_count": 2,
   "metadata": {},
   "outputs": [
    {
     "name": "stdout",
     "output_type": "stream",
     "text": [
      "[3, 5, 7]\n"
     ]
    }
   ],
   "source": [
    "class MyList:\n",
    "    def __init__(self,data):\n",
    "        self.data = data\n",
    "\n",
    "    def __getitem__(self,index):\n",
    "        if isinstance(index,slice):\n",
    "            start = index.start or 0\n",
    "            stop = index.stop or len(self.data)\n",
    "            step = index.step or 1\n",
    "            return self.data[start:stop:step]\n",
    "        else:\n",
    "            self.data[index]\n",
    "\n",
    "\n",
    "my_list = MyList([1,2,3,4,5,6,7,8,9,10])\n",
    "\n",
    "sliced_data = my_list[2:8:2]\n",
    "print(sliced_data)\n"
   ]
  },
  {
   "cell_type": "markdown",
   "metadata": {},
   "source": [
    "Answer4\n",
    "\n",
    "\n",
    "To capture in-place addition in a class, you can use the __iadd__() method. The __iadd__() method is a special method in Python that allows you to define the behavior of in-place addition (+=) when applied to instances of your class."
   ]
  },
  {
   "cell_type": "code",
   "execution_count": 7,
   "metadata": {},
   "outputs": [
    {
     "name": "stdout",
     "output_type": "stream",
     "text": [
      "30.0\n"
     ]
    }
   ],
   "source": [
    "class MyNumber:\n",
    "    def __init__(self, value):\n",
    "        self.value = value\n",
    "\n",
    "    def __iadd__(self, other):\n",
    "        if isinstance(other, MyNumber):\n",
    "            \n",
    "            self.value += other.value\n",
    "        else:\n",
    "           \n",
    "            try:\n",
    "                self.value += float(other)\n",
    "            except ValueError:\n",
    "                raise ValueError(\"Unsupported operand type for +=: MyNumber and \" + type(other).__name__)\n",
    "        return self\n",
    "\n",
    "num1 = MyNumber(5)\n",
    "\n",
    "num2 = MyNumber(10)\n",
    "num1 += num2\n",
    "\n",
    "num1 += 15\n",
    "\n",
    "print(num1.value)"
   ]
  },
  {
   "cell_type": "markdown",
   "metadata": {},
   "source": [
    "Answer5\n",
    "\n",
    "Operator overloading is mostly useful when you're making a new class that falls into an existing \"Abstract Base Class\" (ABC) -- indeed, many of the ABCs in standard library module collections rely on the presence of certain special methods (and special methods, one with names starting and ending with double underscore\n",
    "\n",
    "When one or both operands are of a user-defined class or structure type, operator overloading makes it easier to specify user-defined implementation for such operations. This makes user-defined types more similar to the basic primitive data types in terms of behaviour."
   ]
  },
  {
   "cell_type": "code",
   "execution_count": null,
   "metadata": {},
   "outputs": [],
   "source": []
  }
 ],
 "metadata": {
  "kernelspec": {
   "display_name": "base",
   "language": "python",
   "name": "python3"
  },
  "language_info": {
   "codemirror_mode": {
    "name": "ipython",
    "version": 3
   },
   "file_extension": ".py",
   "mimetype": "text/x-python",
   "name": "python",
   "nbconvert_exporter": "python",
   "pygments_lexer": "ipython3",
   "version": "3.10.9"
  },
  "orig_nbformat": 4
 },
 "nbformat": 4,
 "nbformat_minor": 2
}
