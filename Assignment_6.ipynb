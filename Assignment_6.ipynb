{
 "cells": [
  {
   "cell_type": "markdown",
   "metadata": {},
   "source": [
    "Answer1\n",
    "\n",
    "Exception processing, also known as exception handling, is a powerful feature in programming that allows you to gracefully handle and recover from unexpected or exceptional situations during the execution of a program. Here are three essential applications for exception processing:\n",
    "\n",
    "Error Handling and Robustness:\n",
    "One of the primary applications of exception processing is error handling. It enables you to deal with various types of errors that might occur during program execution, such as file I/O errors, network errors, division by zero, and many others. By catching and handling exceptions, you can prevent your program from crashing and provide meaningful error messages or fallback behavior, enhancing the overall robustness and stability of your application.\n"
   ]
  },
  {
   "cell_type": "code",
   "execution_count": 1,
   "metadata": {},
   "outputs": [
    {
     "name": "stdout",
     "output_type": "stream",
     "text": [
      "cannot divide by zero\n"
     ]
    }
   ],
   "source": [
    "try:\n",
    "    result = 10/0\n",
    "except ZeroDivisionError:\n",
    "    print(\"cannot divide by zero\")\n"
   ]
  },
  {
   "cell_type": "markdown",
   "metadata": {},
   "source": [
    "Input Validation and Data Verification:\n",
    "Exception processing is helpful in validating user inputs and verifying data integrity. When you expect specific input formats or valid data ranges, you can use exception handling to catch invalid inputs or data that doesn't meet the required criteria. This way, you can prompt the user for correct input or take appropriate actions to ensure the data's validity before processing it further."
   ]
  },
  {
   "cell_type": "code",
   "execution_count": 3,
   "metadata": {},
   "outputs": [
    {
     "name": "stdout",
     "output_type": "stream",
     "text": [
      "Invalid Input\n"
     ]
    }
   ],
   "source": [
    "try:\n",
    "    age = int(input(\"enter age: \"))\n",
    "    if age < 0:\n",
    "        raise ValueError(\"Age cannot be negative\")\n",
    "except ValueError as e:\n",
    "    print(\"Invalid Input\")"
   ]
  },
  {
   "cell_type": "markdown",
   "metadata": {},
   "source": [
    "Resource Management and Cleanup:\n",
    "When working with external resources like files, database connections, network sockets, or memory allocations, exception processing is essential for proper resource management and cleanup. It allows you to release resources even in the presence of exceptions, ensuring that files are closed, database connections are properly closed, and any acquired resources are freed correctly."
   ]
  },
  {
   "cell_type": "code",
   "execution_count": 5,
   "metadata": {},
   "outputs": [
    {
     "name": "stdout",
     "output_type": "stream",
     "text": [
      "File NOt found\n"
     ]
    }
   ],
   "source": [
    "try:\n",
    "    with open(\"file.txt\",\"r\") as file:\n",
    "        pass\n",
    "except FileNotFoundError:\n",
    "    print(\"File NOt found\")"
   ]
  },
  {
   "cell_type": "markdown",
   "metadata": {},
   "source": [
    "Answer2\n",
    "\n",
    "he unhandled exception causes the program's normal flow to be interrupted, and any code following the point of the exception won't be executed. This can lead to unexpected behavior and might leave resources in an inconsistent state. For example, if you have opened a file or acquired some other resource before the exception occurs, the resource might not be properly released or closed, potentially leading to resource leaks."
   ]
  },
  {
   "cell_type": "markdown",
   "metadata": {},
   "source": [
    "Answer3\n",
    "\n",
    "When an exception occurs in your script, you have several options for recovering from it and responding gracefully to the exceptional situation. These options involve using exception handling constructs to catch, handle, and recover from exceptions. In Python, the primary mechanism for exception handling is the try-except block.\n",
    "\n",
    "1) Using try-except blocks:\n",
    "You can use a try-except block to catch and handle specific exceptions. Inside the try block, you place the code that might raise an exception. If an exception occurs, the execution jumps to the corresponding except block, where you can handle the exceptional situation, take corrective actions, or display relevant error messages. \n",
    "\n",
    "2) Using multiple except blocks:\n",
    "You can have multiple except blocks to handle different types of exceptions that might arise during execution. This allows you to provide specific handling for each exception type."
   ]
  },
  {
   "cell_type": "code",
   "execution_count": 6,
   "metadata": {},
   "outputs": [
    {
     "name": "stdout",
     "output_type": "stream",
     "text": [
      "Error: File not found - [Errno 2] No such file or directory: 'nonexistent_file.txt'\n"
     ]
    }
   ],
   "source": [
    "try:\n",
    "    file = open(\"nonexistent_file.txt\", \"r\")\n",
    "except FileNotFoundError as e:\n",
    "    print(\"Error: File not found -\", e)\n",
    "except IOError as e:\n",
    "    print(\"Error: I/O error -\", e)\n"
   ]
  },
  {
   "cell_type": "markdown",
   "metadata": {},
   "source": [
    "3) Using else and finally blocks:\n",
    "The else block is executed if the try block completes without any exceptions. It is useful for code that should run only when no exceptions occur. The finally block, if present, is always executed, regardless of whether an exception was raised or not. It is used for cleanup operations that should be performed regardless of the exception."
   ]
  },
  {
   "cell_type": "code",
   "execution_count": 7,
   "metadata": {},
   "outputs": [
    {
     "name": "stdout",
     "output_type": "stream",
     "text": [
      "Error: File not found - [Errno 2] No such file or directory: 'data.txt'\n",
      "Finally block - releasing resources.\n"
     ]
    }
   ],
   "source": [
    "try:\n",
    "    file = open(\"data.txt\", \"r\")\n",
    "except FileNotFoundError as e:\n",
    "    print(\"Error: File not found -\", e)\n",
    "else:\n",
    "    data = file.read()\n",
    "    file.close()\n",
    "finally:\n",
    "    print(\"Finally block - releasing resources.\")\n"
   ]
  },
  {
   "cell_type": "markdown",
   "metadata": {},
   "source": [
    "Answer4\n",
    "\n",
    "1)Using the raise statement:\n",
    "The raise statement is used to explicitly raise an exception at a particular point in your code. It allows you to raise built-in or custom exceptions, along with an optional error message or additional data to provide context for the exception."
   ]
  },
  {
   "cell_type": "code",
   "execution_count": 8,
   "metadata": {},
   "outputs": [
    {
     "name": "stdout",
     "output_type": "stream",
     "text": [
      "Error: Division by zero is not allowed.\n"
     ]
    }
   ],
   "source": [
    "def divide(a, b):\n",
    "    if b == 0:\n",
    "        raise ZeroDivisionError(\"Division by zero is not allowed.\")\n",
    "    return a / b\n",
    "\n",
    "try:\n",
    "    result = divide(10, 0)\n",
    "except ZeroDivisionError as e:\n",
    "    print(\"Error:\", e)  "
   ]
  },
  {
   "cell_type": "markdown",
   "metadata": {},
   "source": [
    "2)Using assert statements:\n",
    "The assert statement is used to trigger an AssertionError exception when the condition specified in the assert statement evaluates to False. assert statements are often used for debugging and to check for conditions that should always be true during development. "
   ]
  },
  {
   "cell_type": "code",
   "execution_count": 9,
   "metadata": {},
   "outputs": [
    {
     "name": "stdout",
     "output_type": "stream",
     "text": [
      "Assertion Error: Input must be non-negative.\n"
     ]
    }
   ],
   "source": [
    "def function_with_assert(x):\n",
    "    assert x >= 0, \"Input must be non-negative.\"\n",
    "    return x * 2\n",
    "\n",
    "try:\n",
    "    result = function_with_assert(-5)\n",
    "except AssertionError as e:\n",
    "    print(\"Assertion Error:\", e)  "
   ]
  },
  {
   "cell_type": "markdown",
   "metadata": {},
   "source": [
    "Answer5\n",
    "\n",
    "1)Using the finally block:\n",
    "The finally block is a part of the try-except block structure and is executed regardless of whether an exception occurred or not. It allows you to define cleanup code that must be executed at the end of the try block, regardless of the outcome.\n",
    "\n",
    "2)Using the atexit module:\n",
    "The atexit module provides a way to register functions that should be executed when the Python interpreter terminates, whether it's due to the end of the script or an unhandled exception. "
   ]
  },
  {
   "cell_type": "code",
   "execution_count": null,
   "metadata": {},
   "outputs": [],
   "source": []
  }
 ],
 "metadata": {
  "kernelspec": {
   "display_name": "base",
   "language": "python",
   "name": "python3"
  },
  "language_info": {
   "codemirror_mode": {
    "name": "ipython",
    "version": 3
   },
   "file_extension": ".py",
   "mimetype": "text/x-python",
   "name": "python",
   "nbconvert_exporter": "python",
   "pygments_lexer": "ipython3",
   "version": "3.10.9"
  },
  "orig_nbformat": 4
 },
 "nbformat": 4,
 "nbformat_minor": 2
}
