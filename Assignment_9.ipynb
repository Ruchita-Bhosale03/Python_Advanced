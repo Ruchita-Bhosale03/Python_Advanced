{
 "cells": [
  {
   "cell_type": "markdown",
   "metadata": {},
   "source": [
    "Answer1\n",
    "\n",
    "str (Unicode Strings):\n",
    "The str type represents Unicode strings in Python 3.x. It is the default type used to store and manipulate textual data. Unicode strings can contain characters from various scripts and languages, making them versatile for internationalization and localization.\n",
    "\n",
    "Functions and methods associated with the str type include:\n",
    "\n",
    "str() or unicode(): Convert other data types to a string.\n",
    "len(): Get the length of the string.\n",
    "Indexing and Slicing: Access individual characters or substrings within the string.\n",
    "split(): Split the string into a list of substrings based on a delimiter.\n",
    "join(): Join a list of strings into a single string using a delimiter.\n",
    "upper(), lower(), capitalize(): Convert the string to uppercase, lowercase, or capitalize the first letter, respectively.\n",
    "strip(), lstrip(), rstrip(): Remove whitespace characters from the beginning, end, or both ends of the string.\n",
    "replace(): Replace occurrences of a substring with another substring.\n",
    "\n",
    "bytes (Byte Strings):\n",
    "The bytes type represents sequences of bytes (raw binary data) in Python 3.x. Byte strings are used for handling binary data and performing low-level operations like reading and writing binary files.\n",
    "\n",
    "Functions and methods associated with the bytes type include:\n",
    "\n",
    "bytes(): Convert other data types to a byte string.\n",
    "len(): Get the number of bytes in the byte string.\n",
    "Indexing and Slicing: Access individual bytes or byte sequences within the byte string.\n",
    "decode(): Convert a byte string into a str (Unicode) string using a specific encoding.\n",
    "encode(): Convert a str (Unicode) string into a byte string using a specific encoding.\n",
    "hex(): Convert the byte string to a hexadecimal representation.\n",
    "fromhex(): Create a byte string from a hexadecimal string representation."
   ]
  },
  {
   "cell_type": "markdown",
   "metadata": {},
   "source": [
    "Answer2\n",
    "\n",
    "Character Encoding:\n",
    "\n",
    "str (Unicode strings): Unicode strings can represent characters from various scripts and languages. They support a wide range of characters, including emojis and special symbols. Unicode strings use the UTF-8 encoding by default in Python 3, but you can specify other encodings when encoding or decoding them.\n",
    "bytes (Byte strings): Byte strings represent raw binary data. Each byte in a byte string can hold a value from 0 to 255. Byte strings do not have inherent knowledge of character encodings. They store bytes as-is and do not handle character-related operations directly.\n",
    "Immutability:\n",
    "\n",
    "str (Unicode strings): Unicode strings are immutable, meaning their values cannot be changed after they are created. When you modify a string, you create a new string object.\n",
    "bytes (Byte strings): Byte strings are also immutable.\n",
    "\n",
    "Encoding and Decoding:\n",
    "\n",
    "str (Unicode strings): Unicode strings can be encoded to bytes using the encode() method, specifying a character encoding (e.g., UTF-8, UTF-16, etc.). They can also be decoded from bytes to Unicode using the decode() method, with the corresponding encoding.\n",
    "bytes (Byte strings): Byte strings can be decoded to str using the decode() method, and they can be created from a str using the encode() method.\n",
    "\n",
    "str (Unicode strings) is designed for handling textual data and supports a wide range of text-related operations. On the other hand, bytes (byte strings) is intended for working with binary data and performs low-level operations that involve bytes. \n"
   ]
  },
  {
   "cell_type": "markdown",
   "metadata": {},
   "source": [
    "Answer3\n",
    "In Python 3.x, you can include non-ASCII Unicode characters in a string directly by using their Unicode code points or by using escape sequences."
   ]
  },
  {
   "cell_type": "code",
   "execution_count": 1,
   "metadata": {},
   "outputs": [],
   "source": [
    "non_ascii_string1 = \"\\u03A9\"  # Greek capital letter Omega (Ω)\n",
    "\n",
    "non_ascii_string2 = \"\\U0001F609\"  # Smiling face with smiling eyes emoji (😉)\n"
   ]
  },
  {
   "cell_type": "code",
   "execution_count": 2,
   "metadata": {},
   "outputs": [],
   "source": [
    "# Using escape sequence for newline\n",
    "newline = \"Hello,\\nWorld!\"\n",
    "\n",
    "# Using escape sequence for tab\n",
    "tab = \"First\\tSecond\"\n"
   ]
  },
  {
   "cell_type": "markdown",
   "metadata": {},
   "source": [
    "Answer4\n",
    "\n",
    "Text-mode files are opened with the default mode or explicitly with 't' mode. When you open a file in text mode, Python will interpret the data in the file as text, assuming it is composed of characters encoded in a specific character encoding \n",
    "\n",
    "Binary-mode files are opened with 'b' mode. When you open a file in binary mode, Python will treat the data in the file as raw binary data with no newline translation.When reading from a binary-mode file, the data is read as-is, without any interpretation or modification. The read data will be in the form of bytes.\n"
   ]
  },
  {
   "cell_type": "markdown",
   "metadata": {},
   "source": [
    "Answer5\n",
    "\n",
    "In Python, you can use the open() function with the encoding parameter to indicate the specific character encoding used in the file.\n",
    "\n",
    "with open('unicode_file.txt', mode='r', encoding='utf-8') as file:\n",
    "    content = file.read()"
   ]
  },
  {
   "cell_type": "markdown",
   "metadata": {},
   "source": [
    "Answer6\n",
    "The best way to create a Unicode text file in a particular encoding format in Python is to use the open() function with the appropriate encoding mode. \n",
    "\n",
    "with open('unicode_file.txt', mode='w', encoding='utf-16') as file:\n",
    "    file.write(\"Hello, this is a Unicode text file in UTF-16 encoding.\")\n"
   ]
  },
  {
   "cell_type": "markdown",
   "metadata": {},
   "source": [
    "Answer7\n",
    "\n",
    "ASCII text is considered a form of Unicode text because ASCII characters are a subset of Unicode characters. Unicode is a character encoding standard that aims to provide a universal way to represent and process text in all writing systems and languages worldwide. \n",
    "ASCII (American Standard Code for Information Interchange) is an older character encoding scheme that represents text using 7 bits (128 characters) and includes basic Latin characters "
   ]
  },
  {
   "cell_type": "markdown",
   "metadata": {},
   "source": [
    "Answer8\n",
    "\n",
    "The change in string types in Python 3.X from using ASCII by default to using Unicode (str type) as the default string type has a significant effect on code.\n",
    "unicode Support: The most notable effect is that strings in Python 3.X (str type) are Unicode by default, which means they can handle characters from any language and support a wide range of characters, including emojis and special symbols. This simplifies working with multilingual text and ensures better compatibility with various data sources.\n",
    "\n",
    "Character Encoding: In Python 2, you had to deal with different string types (str for ASCII and unicode for Unicode). In Python 3, with everything represented as Unicode (str), you don't have to worry about explicit conversions between string types as frequently, which can lead to cleaner and more concise code.\n",
    "\n",
    "Byte Strings: In Python 3, a separate bytes type is introduced to handle binary data, and str type handles textual data. This separation helps clarify the distinction between raw binary data and Unicode text and allows you to handle binary data more accurately."
   ]
  }
 ],
 "metadata": {
  "kernelspec": {
   "display_name": "base",
   "language": "python",
   "name": "python3"
  },
  "language_info": {
   "codemirror_mode": {
    "name": "ipython",
    "version": 3
   },
   "file_extension": ".py",
   "mimetype": "text/x-python",
   "name": "python",
   "nbconvert_exporter": "python",
   "pygments_lexer": "ipython3",
   "version": "3.10.9"
  },
  "orig_nbformat": 4
 },
 "nbformat": 4,
 "nbformat_minor": 2
}
