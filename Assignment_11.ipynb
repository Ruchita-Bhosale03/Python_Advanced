{
 "cells": [
  {
   "cell_type": "markdown",
   "metadata": {},
   "source": [
    "Answer1\n",
    "\n",
    "By default, when you create a class, Python implicitly uses the type metaclass to define that class. However, you can define custom metaclasses to control class creation and customize the behavior of classes in various ways.\n",
    "\n",
    "Metaclasses enable you to perform advanced tasks during class creation, such as automatically adding attributes or methods to the class, enforcing coding standards, logging class creation, and much more. They provide powerful introspection and manipulation capabilities for class-level behavior."
   ]
  },
  {
   "cell_type": "markdown",
   "metadata": {},
   "source": [
    "Answer2\n",
    "\n",
    "The best way to declare a class's metaclass in Python is by using the metaclass argument in the class definition. This allows you to specify the desired metaclass explicitly for the class.\n",
    "\n",
    "class MyClass(metaclass=MyMeta):"
   ]
  },
  {
   "cell_type": "markdown",
   "metadata": {},
   "source": [
    "Answer3\n",
    "Class decorators are functions that take a class as input and return a new class as output. They are applied using the @decorator_name syntax just above the class definition.\n",
    "Class decorators are a concise way to modify or extend a class without creating a new class explicitly. \n",
    "\n",
    "Metaclasses, as discussed earlier, are classes themselves that define the behavior of other classes. They are used by the Python interpreter to create classes when you use the class keyword.\n",
    "Metaclasses allow you to control class creation in a more fine-grained manner compared to class decorators. They can customize attribute access, enforce coding standards, provide default behavior, and more during class creation."
   ]
  },
  {
   "cell_type": "code",
   "execution_count": 1,
   "metadata": {},
   "outputs": [
    {
     "name": "stdout",
     "output_type": "stream",
     "text": [
      "Custom method added!\n"
     ]
    }
   ],
   "source": [
    "def add_custom_method(cls):\n",
    "    def custom_method(self):\n",
    "        return \"Custom method added!\"\n",
    "    cls.custom_method = custom_method\n",
    "    return cls\n",
    "\n",
    "@add_custom_method\n",
    "class MyClass:\n",
    "    pass\n",
    "\n",
    "obj = MyClass()\n",
    "print(obj.custom_method())"
   ]
  },
  {
   "cell_type": "markdown",
   "metadata": {},
   "source": [
    "Answer4\n",
    "Instances are created based on the class's definition and behavior, which are influenced by class decorators and metaclasses."
   ]
  },
  {
   "cell_type": "code",
   "execution_count": 2,
   "metadata": {},
   "outputs": [
    {
     "name": "stdout",
     "output_type": "stream",
     "text": [
      "Custom method added!\n"
     ]
    }
   ],
   "source": [
    "def add_custom_method(cls):\n",
    "    def custom_method(self):\n",
    "        return \"Custom method added!\"\n",
    "    cls.custom_method = custom_method\n",
    "    return cls\n",
    "\n",
    "@add_custom_method\n",
    "class MyClass:\n",
    "    pass\n",
    "\n",
    "obj = MyClass()\n",
    "print(obj.custom_method())"
   ]
  },
  {
   "cell_type": "code",
   "execution_count": null,
   "metadata": {},
   "outputs": [],
   "source": []
  }
 ],
 "metadata": {
  "kernelspec": {
   "display_name": "base",
   "language": "python",
   "name": "python3"
  },
  "language_info": {
   "codemirror_mode": {
    "name": "ipython",
    "version": 3
   },
   "file_extension": ".py",
   "mimetype": "text/x-python",
   "name": "python",
   "nbconvert_exporter": "python",
   "pygments_lexer": "ipython3",
   "version": "3.10.9"
  },
  "orig_nbformat": 4
 },
 "nbformat": 4,
 "nbformat_minor": 2
}
