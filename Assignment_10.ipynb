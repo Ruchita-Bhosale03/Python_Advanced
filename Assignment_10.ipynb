{
 "cells": [
  {
   "cell_type": "markdown",
   "metadata": {},
   "source": [
    "Answer1\n",
    "\n",
    "__getattr__ is a special method in Python that gets invoked when an attribute is accessed, and the attribute is not found through the usual lookup process "
   ]
  },
  {
   "cell_type": "code",
   "execution_count": 1,
   "metadata": {},
   "outputs": [
    {
     "name": "stdout",
     "output_type": "stream",
     "text": [
      "Attribute 'some_attribute' not found.\n"
     ]
    }
   ],
   "source": [
    "class MyClass:\n",
    "    def __getattr__(self, name):\n",
    "        # Default behavior for missing attributes\n",
    "        return f\"Attribute '{name}' not found.\"\n",
    "\n",
    "obj = MyClass()\n",
    "print(obj.some_attribute) "
   ]
  },
  {
   "cell_type": "markdown",
   "metadata": {},
   "source": [
    "__getattribute__ is another special method in Python that gets invoked every time an attribute is accessed, regardless of whether the attribute exists or not.\n",
    "This method takes two arguments: self, representing the instance of the object, and name, which is a string containing the name of the attribute being accessed."
   ]
  },
  {
   "cell_type": "code",
   "execution_count": 2,
   "metadata": {},
   "outputs": [
    {
     "name": "stdout",
     "output_type": "stream",
     "text": [
      "Accessing attribute: some_attribute\n",
      "42\n"
     ]
    }
   ],
   "source": [
    "class MyClass:\n",
    "    def __init__(self):\n",
    "        self.some_attribute = 42\n",
    "\n",
    "    def __getattribute__(self, name):\n",
    "        print(f\"Accessing attribute: {name}\")\n",
    "        return super().__getattribute__(name)\n",
    "\n",
    "obj = MyClass()\n",
    "print(obj.some_attribute)\n",
    "                           \n"
   ]
  },
  {
   "cell_type": "markdown",
   "metadata": {},
   "source": [
    "Answer2\n",
    "\n",
    "Properties are created using the property built-in function. They are defined within the class as methods with specific decorators (@property, @attribute_name.setter, and @attribute_name.deleter) to control attribute access.\n",
    "Descriptors, on the other hand, are defined as separate classes that implement specific methods (__get__, __set__, and __delete__) to customize attribute access. Descriptors are instances of these classes that are assigned to class attributes.\n",
    "\n",
    "Properties are commonly used for simple attribute access control and transformation. For example, they can be used to compute a value on-the-fly when accessing an attribute, enforcing read-only attributes, or implementing caching mechanisms.\n",
    "\n",
    "Descriptors are more powerful and versatile. They can be used for complex attribute access control, validation, data type conversion, and various other custom behaviors. Descriptors are often used when you need to apply the same behavior across multiple attributes in a class."
   ]
  },
  {
   "cell_type": "markdown",
   "metadata": {},
   "source": [
    "Answer3\n",
    "\n",
    "__getattr__ vs. __getattribute__:\n",
    "\n",
    "__getattr__(self, name):\n",
    "\n",
    "Called when an attribute is not found through the normal attribute lookup process (i.e., the attribute is not an instance attribute or in the class hierarchy).\n",
    "Used to provide default behavior for missing attributes or handle dynamic attribute access.\n",
    "Should be used with caution to avoid infinite recursion when accessing non-existent attributes within __getattr__.\n",
    "If __getattr__ is not defined or returns None, an AttributeError is raised when attempting to access a missing attribute.\n",
    "__getattribute__(self, name):\n",
    "\n",
    "Called every time an attribute is accessed, regardless of whether the attribute exists or not.\n",
    "Allows fine-grained control over attribute access behavior for all attributes in the class.\n",
    "Can be used to intercept and customize attribute access, but must be implemented carefully to avoid infinite recursion.\n",
    "If overridden, __getattribute__ is responsible for getting all attributes, including built-in attributes like __class__.\n",
    "\n",
    "\n",
    "\n",
    "Properties vs. Descriptors:\n",
    "\n",
    "Properties:\n",
    "\n",
    "Created using the property built-in function as methods within the class with specific decorators (@property, @attribute_name.setter, and @attribute_name.deleter).\n",
    "Defined at the class level and specific to individual attributes. They provide custom behavior for specific attributes without affecting other attributes.\n",
    "Commonly used for simple attribute access control and transformation.\n",
    "More readable and easier to maintain as the logic for getting, setting, and deleting the attribute is directly associated with the attribute.\n",
    "Can be used to enforce read-only attributes, implement caching mechanisms, or compute values on-the-fly.\n",
    "Tend to be faster and have less overhead compared to descriptors.\n",
    "\n",
    "Descriptors:\n",
    "\n",
    "Defined as separate classes that implement specific methods (__get__, __set__, and __delete__) to customize attribute access.\n",
    "Can be assigned to class attributes and affect multiple attributes within the class.\n",
    "More powerful and versatile than properties, allowing complex attribute access control, validation, and data type conversion.\n",
    "Require additional understanding and effort to implement, as they involve separate classes and method invocations.\n",
    "Used when you need to apply the same behavior across multiple attributes in a class or require more extensive customization.\n",
    "Slightly slower due to potential method lookups and indirection."
   ]
  },
  {
   "cell_type": "code",
   "execution_count": null,
   "metadata": {},
   "outputs": [],
   "source": []
  }
 ],
 "metadata": {
  "kernelspec": {
   "display_name": "base",
   "language": "python",
   "name": "python3"
  },
  "language_info": {
   "codemirror_mode": {
    "name": "ipython",
    "version": 3
   },
   "file_extension": ".py",
   "mimetype": "text/x-python",
   "name": "python",
   "nbconvert_exporter": "python",
   "pygments_lexer": "ipython3",
   "version": "3.10.9"
  },
  "orig_nbformat": 4
 },
 "nbformat": 4,
 "nbformat_minor": 2
}
