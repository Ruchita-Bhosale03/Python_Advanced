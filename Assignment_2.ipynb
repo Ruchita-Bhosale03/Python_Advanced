{
 "cells": [
  {
   "cell_type": "markdown",
   "metadata": {},
   "source": [
    "Answer1\n",
    "Classes can be defined within a module: You can define one or more classes within a module. The module provides a container for the classes, helping to organize and group related class definitions in one file.\n",
    "Classes can be imported from modules: To use a class defined in a module, you can import the module into another module or script. Once imported, you can create instances of the class and access its attributes and methods.\n",
    "Modules can contain classes and other code: Modules are not limited to just classes; they can also contain functions, variables, and other code elements. This allows you to have a collection of related code, including classes, within a single module."
   ]
  },
  {
   "cell_type": "markdown",
   "metadata": {},
   "source": [
    "Answer2"
   ]
  },
  {
   "cell_type": "code",
   "execution_count": 1,
   "metadata": {},
   "outputs": [
    {
     "name": "stdout",
     "output_type": "stream",
     "text": [
      "10\n",
      "I am a class variable\n",
      "This is an instance method\n"
     ]
    }
   ],
   "source": [
    "# Step 1: Define a Class\n",
    "class MyClass:\n",
    "    class_variable = \"I am a class variable\"\n",
    "\n",
    "    def __init__(self, value):\n",
    "        self.instance_variable = value\n",
    "\n",
    "    def instance_method(self):\n",
    "        print(\"This is an instance method\")\n",
    "\n",
    "# Step 2: Create Instances (Object Instantiation)\n",
    "my_instance = MyClass(10)\n",
    "\n",
    "# Step 3: Access Attributes and Methods\n",
    "print(my_instance.instance_variable)\n",
    "print(my_instance.class_variable)     \n",
    "\n",
    "my_instance.instance_method()"
   ]
  },
  {
   "cell_type": "markdown",
   "metadata": {},
   "source": [
    "Answer3"
   ]
  },
  {
   "cell_type": "code",
   "execution_count": 2,
   "metadata": {},
   "outputs": [
    {
     "name": "stdout",
     "output_type": "stream",
     "text": [
      "I am a class attribute\n",
      "I am a class attribute\n"
     ]
    }
   ],
   "source": [
    "class MyClass:\n",
    "    class_attribute = \"I am a class attribute\"\n",
    "\n",
    "    def __init__(self, instance_attribute):\n",
    "        self.instance_attribute = instance_attribute\n",
    "\n",
    "print(MyClass.class_attribute)\n",
    "\n",
    "my_instance = MyClass(\"Instance value\")\n",
    "print(my_instance.class_attribute)  "
   ]
  },
  {
   "cell_type": "code",
   "execution_count": 3,
   "metadata": {},
   "outputs": [
    {
     "name": "stdout",
     "output_type": "stream",
     "text": [
      "Instance value\n",
      "New value\n"
     ]
    }
   ],
   "source": [
    "#Answer4\n",
    "\n",
    "class MyClass:\n",
    "    def __init__(self, instance_attribute):\n",
    "        self.instance_attribute = instance_attribute\n",
    "my_instance = MyClass(\"Instance value\")\n",
    "print(my_instance.instance_attribute)  \n",
    "my_instance.instance_attribute = \"New value\"\n",
    "print(my_instance.instance_attribute) "
   ]
  },
  {
   "cell_type": "markdown",
   "metadata": {},
   "source": [
    "Answer5\n",
    "\n",
    "In Python, the term \"self\" is a convention used as the first parameter in a class method definition. It represents the instance of the class itself and is automatically passed when a method is called on an instance."
   ]
  },
  {
   "cell_type": "markdown",
   "metadata": {},
   "source": [
    "Answer6\n",
    "In Python, operator overloading allows classes to define or redefine the behavior of built-in operators such as +, -, *, /, ==, <, >, and more. By overloading operators, you can specify how instances of a class should respond to those operators.\n",
    "\n",
    "Operator overloading in Python is achieved by defining special methods within a class that correspond to specific operators. These special methods are also known as magic methods or dunder methods (double underscore methods) because they are surrounded by double underscores.\n",
    "\n",
    "__add__(self, other): Handles the + operator.\n",
    "__sub__(self, other): Handles the - operator.\n",
    "__mul__(self, other): Handles the * operator.\n",
    "__div__(self, other): Handles the / operator.\n",
    "__eq__(self, other): Handles the == operator for equality comparison.\n",
    "__lt__(self, other): Handles the < operator for less than comparison.\n",
    "__gt__(self, other): Handles the > operator for greater than comparison.\n",
    "and many more."
   ]
  },
  {
   "cell_type": "markdown",
   "metadata": {},
   "source": [
    "Answer7\n",
    "\n",
    "Operator overloading should be considered for your classes when it enhances the clarity, expressiveness, and usability of your code. Here are a few situations where allowing operator overloading can be beneficial:\n",
    "\n",
    "Natural Semantics: If your class represents a concept or data type that naturally supports certain operations, overloading operators can make your code more intuitive and readable. For example, if you have a Vector class, overloading the arithmetic operators (+, -, *, /) can provide a more natural and concise syntax for vector operations.\n",
    "\n",
    "Code Readability: Operator overloading can make your code more readable and expressive by allowing you to use familiar operators for custom objects. It can reduce the need for verbose method calls or function names, leading to more concise and self-explanatory code.\n",
    "\n",
    "Compatibility with Built-in Types: Overloading operators can enable your custom objects to seamlessly integrate with built-in Python types. This compatibility allows you to use your objects in a way that feels consistent with how built-in types behave, improving code integration and reducing cognitive load.\n",
    "\n",
    "Consistency and Elegance: Operator overloading can promote a more consistent and elegant coding style. By"
   ]
  },
  {
   "cell_type": "markdown",
   "metadata": {},
   "source": [
    "Answer8\n",
    "\n",
    "\n",
    "In Python, one of the most popular forms of operator overloading is the overloading of arithmetic operators (+, -, *, /, etc.). This form of operator overloading allows custom objects to support mathematical operations and expressions."
   ]
  },
  {
   "cell_type": "markdown",
   "metadata": {},
   "source": [
    "Answer9\n",
    "\n",
    "Classes and Objects:\n",
    "\n",
    "Classes are the blueprints or templates that define the structure and behavior of objects. They encapsulate data (attributes) and functionality (methods) related to a particular concept or entity.\n",
    "Objects (instances) are specific instances of a class, created using the class as a constructor. Objects have their own unique data and can perform actions defined by the class's methods.Understanding how classes and objects relate and interact with each other is fundamental to comprehending OOP code.\n",
    "\n",
    "Inheritance and Polymorphism:\n",
    "\n",
    "Inheritance is a mechanism that allows a class (derived or child class) to inherit attributes and methods from another class (base or parent class). It facilitates code reuse and promotes the creation of specialized classes based on existing ones.\n",
    "Polymorphism allows objects of different classes to be treated as objects of a common base class. It enables the use of the same interface (methods) to perform different actions depending on the specific class of the object.\n",
    "Grasping how inheritance and polymorphism work in Python OOP code is essential for understanding code that utilizes these concepts, as they play a central role in code organization, modularity, and flexibility."
   ]
  }
 ],
 "metadata": {
  "kernelspec": {
   "display_name": "base",
   "language": "python",
   "name": "python3"
  },
  "language_info": {
   "codemirror_mode": {
    "name": "ipython",
    "version": 3
   },
   "file_extension": ".py",
   "mimetype": "text/x-python",
   "name": "python",
   "nbconvert_exporter": "python",
   "pygments_lexer": "ipython3",
   "version": "3.10.9"
  },
  "orig_nbformat": 4
 },
 "nbformat": 4,
 "nbformat_minor": 2
}
