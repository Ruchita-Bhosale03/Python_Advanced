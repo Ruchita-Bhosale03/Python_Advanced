{
 "cells": [
  {
   "cell_type": "markdown",
   "metadata": {},
   "source": [
    "Answer1\n",
    "\n",
    "Custom Exception Classes:\n",
    "In Python, you can define your own exception classes by creating a new class that inherits from the built-in Exception class or one of its subclasses. This allows you to create specific exceptions for your application, making error handling and debugging more straightforward. Custom exception classes are often used to handle unique errors that are specific to your program's context."
   ]
  },
  {
   "cell_type": "markdown",
   "metadata": {},
   "source": [
    "ANswer2\n",
    "\n",
    "In Python, when an exception is raised, the interpreter looks for an appropriate exception handler to catch and handle the exception. This process involves searching through the call stack to find a matching try block with an associated except block that can handle the specific exception type or its superclass. Class-based exceptions are matched to handlers based on their inheritance hierarch\n"
   ]
  },
  {
   "cell_type": "markdown",
   "metadata": {},
   "source": [
    "Answer3\n",
    "\n",
    "When dealing with exceptions in Python, it's essential to provide context information to help with debugging and understanding the cause of the exception. Here are two common methods for attaching context information to exception artifacts:\n",
    "\n",
    "Exception Arguments:\n",
    "Python allows you to pass additional context information to an exception by providing arguments when raising the exception. These arguments can be used to convey specific details about the exception. Exception arguments are stored as a tuple and can be accessed using the args attribute of the exception object.\n",
    "\n",
    "Custom Exception Classes with Attributes:\n",
    "Another way to attach context information to exceptions is by defining custom exception classes with additional attributes. By creating custom exception classes, you can add relevant properties to the exception objects, making it easier to access context information directly from the exception instance."
   ]
  },
  {
   "cell_type": "markdown",
   "metadata": {},
   "source": [
    "Answer4\n",
    "\n",
    "Using the raise statement with a String Argument:\n",
    "When raising an exception using the raise statement, you can provide a string argument to specify the error message for the exception. This string argument will become the error message associated with the exception.\n",
    "\n",
    "Defining Custom Exception Classes with __init__ Method:\n",
    "Another method to specify the text of an exception object's error message is by creating custom exception classes and defining an __init__ method for the class. This method allows you to initialize the exception object with a specific error message, which can be accessed using the args attribute.\n"
   ]
  },
  {
   "cell_type": "markdown",
   "metadata": {},
   "source": [
    "Answer5\n",
    "\n",
    "String-based exceptions were used in older versions of Python (Python 2 and earlier) to raise and handle exceptions by providing error messages as strings.\n",
    "Lack of Specificity\n",
    "No Inheritance Hierarchy\n",
    "Error-Prone"
   ]
  },
  {
   "cell_type": "markdown",
   "metadata": {},
   "source": []
  },
  {
   "cell_type": "code",
   "execution_count": null,
   "metadata": {
    "vscode": {
     "languageId": "plaintext"
    }
   },
   "outputs": [],
   "source": []
  }
 ],
 "metadata": {
  "language_info": {
   "name": "python"
  },
  "orig_nbformat": 4
 },
 "nbformat": 4,
 "nbformat_minor": 2
}
